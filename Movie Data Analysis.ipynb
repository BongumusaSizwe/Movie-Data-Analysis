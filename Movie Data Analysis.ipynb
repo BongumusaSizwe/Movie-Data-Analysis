{
 "cells": [
  {
   "cell_type": "markdown",
   "metadata": {
    "id": "M3tlmjfkOTEC"
   },
   "source": [
    "# Analysis of the Netflix and IMDB Dataset\n",
    "\n",
    "**Data Source** \n",
    "- [Netflix Datasource](https://www.kaggle.com/shivamb/netflix-shows)\n",
    "- [IMDB Datasource](https://data.world/datasets/imdb)"
   ]
  },
  {
   "cell_type": "code",
   "execution_count": null,
   "metadata": {
    "colab": {
     "base_uri": "https://localhost:8080/"
    },
    "id": "zmAbWT6oP-dR",
    "outputId": "7efb778a-000d-4be0-9ed5-b7591828da45"
   },
   "outputs": [
    {
     "name": "stdout",
     "output_type": "stream",
     "text": [
      "Mounted at /content/drive\n"
     ]
    }
   ],
   "source": [
    "from google.colab import drive\n",
    "drive.mount('/content/drive')"
   ]
  },
  {
   "cell_type": "code",
   "execution_count": null,
   "metadata": {
    "id": "Z6z8-gPPQLVb"
   },
   "outputs": [],
   "source": [
    "# imports\n",
    "import numpy as np\n",
    "import pandas as pd\n",
    "import matplotlib.pyplot as plt\n",
    "%matplotlib inline\n",
    "import missingno\n",
    "import seaborn as sns\n",
    "sns.set_theme(style=\"white\")\n",
    "\n",
    "import collections\n",
    "import zipfile\n",
    "import gzip"
   ]
  },
  {
   "cell_type": "markdown",
   "metadata": {},
   "source": [
    "# Netflix Dataset Analysis\n",
    "## Load dataset"
   ]
  },
  {
   "cell_type": "code",
   "execution_count": null,
   "metadata": {
    "colab": {
     "base_uri": "https://localhost:8080/",
     "height": 432
    },
    "id": "hNITMXyoQOjM",
    "outputId": "e2cb3537-3925-4aaa-e777-ed5cdfced38e"
   },
   "outputs": [
    {
     "data": {
      "text/html": [
       "<div>\n",
       "<style scoped>\n",
       "    .dataframe tbody tr th:only-of-type {\n",
       "        vertical-align: middle;\n",
       "    }\n",
       "\n",
       "    .dataframe tbody tr th {\n",
       "        vertical-align: top;\n",
       "    }\n",
       "\n",
       "    .dataframe thead th {\n",
       "        text-align: right;\n",
       "    }\n",
       "</style>\n",
       "<table border=\"1\" class=\"dataframe\">\n",
       "  <thead>\n",
       "    <tr style=\"text-align: right;\">\n",
       "      <th></th>\n",
       "      <th>show_id</th>\n",
       "      <th>type</th>\n",
       "      <th>title</th>\n",
       "      <th>director</th>\n",
       "      <th>cast</th>\n",
       "      <th>country</th>\n",
       "      <th>date_added</th>\n",
       "      <th>release_year</th>\n",
       "      <th>rating</th>\n",
       "      <th>duration</th>\n",
       "      <th>listed_in</th>\n",
       "      <th>description</th>\n",
       "    </tr>\n",
       "  </thead>\n",
       "  <tbody>\n",
       "    <tr>\n",
       "      <th>0</th>\n",
       "      <td>s1</td>\n",
       "      <td>Movie</td>\n",
       "      <td>Dick Johnson Is Dead</td>\n",
       "      <td>Kirsten Johnson</td>\n",
       "      <td>NaN</td>\n",
       "      <td>United States</td>\n",
       "      <td>September 25, 2021</td>\n",
       "      <td>2020</td>\n",
       "      <td>PG-13</td>\n",
       "      <td>90 min</td>\n",
       "      <td>Documentaries</td>\n",
       "      <td>As her father nears the end of his life, filmm...</td>\n",
       "    </tr>\n",
       "    <tr>\n",
       "      <th>1</th>\n",
       "      <td>s2</td>\n",
       "      <td>TV Show</td>\n",
       "      <td>Blood &amp; Water</td>\n",
       "      <td>NaN</td>\n",
       "      <td>Ama Qamata, Khosi Ngema, Gail Mabalane, Thaban...</td>\n",
       "      <td>South Africa</td>\n",
       "      <td>September 24, 2021</td>\n",
       "      <td>2021</td>\n",
       "      <td>TV-MA</td>\n",
       "      <td>2 Seasons</td>\n",
       "      <td>International TV Shows, TV Dramas, TV Mysteries</td>\n",
       "      <td>After crossing paths at a party, a Cape Town t...</td>\n",
       "    </tr>\n",
       "    <tr>\n",
       "      <th>2</th>\n",
       "      <td>s3</td>\n",
       "      <td>TV Show</td>\n",
       "      <td>Ganglands</td>\n",
       "      <td>Julien Leclercq</td>\n",
       "      <td>Sami Bouajila, Tracy Gotoas, Samuel Jouy, Nabi...</td>\n",
       "      <td>NaN</td>\n",
       "      <td>September 24, 2021</td>\n",
       "      <td>2021</td>\n",
       "      <td>TV-MA</td>\n",
       "      <td>1 Season</td>\n",
       "      <td>Crime TV Shows, International TV Shows, TV Act...</td>\n",
       "      <td>To protect his family from a powerful drug lor...</td>\n",
       "    </tr>\n",
       "    <tr>\n",
       "      <th>3</th>\n",
       "      <td>s4</td>\n",
       "      <td>TV Show</td>\n",
       "      <td>Jailbirds New Orleans</td>\n",
       "      <td>NaN</td>\n",
       "      <td>NaN</td>\n",
       "      <td>NaN</td>\n",
       "      <td>September 24, 2021</td>\n",
       "      <td>2021</td>\n",
       "      <td>TV-MA</td>\n",
       "      <td>1 Season</td>\n",
       "      <td>Docuseries, Reality TV</td>\n",
       "      <td>Feuds, flirtations and toilet talk go down amo...</td>\n",
       "    </tr>\n",
       "    <tr>\n",
       "      <th>4</th>\n",
       "      <td>s5</td>\n",
       "      <td>TV Show</td>\n",
       "      <td>Kota Factory</td>\n",
       "      <td>NaN</td>\n",
       "      <td>Mayur More, Jitendra Kumar, Ranjan Raj, Alam K...</td>\n",
       "      <td>India</td>\n",
       "      <td>September 24, 2021</td>\n",
       "      <td>2021</td>\n",
       "      <td>TV-MA</td>\n",
       "      <td>2 Seasons</td>\n",
       "      <td>International TV Shows, Romantic TV Shows, TV ...</td>\n",
       "      <td>In a city of coaching centers known to train I...</td>\n",
       "    </tr>\n",
       "  </tbody>\n",
       "</table>\n",
       "</div>"
      ],
      "text/plain": [
       "  show_id  ...                                        description\n",
       "0      s1  ...  As her father nears the end of his life, filmm...\n",
       "1      s2  ...  After crossing paths at a party, a Cape Town t...\n",
       "2      s3  ...  To protect his family from a powerful drug lor...\n",
       "3      s4  ...  Feuds, flirtations and toilet talk go down amo...\n",
       "4      s5  ...  In a city of coaching centers known to train I...\n",
       "\n",
       "[5 rows x 12 columns]"
      ]
     },
     "execution_count": 3,
     "metadata": {},
     "output_type": "execute_result"
    }
   ],
   "source": [
    "netdf = pd.read_csv('/content/drive/MyDrive/Project ML/Exam/datasets/datasets/netflix_titles.csv')\n",
    "netdf.head()"
   ]
  },
  {
   "cell_type": "markdown",
   "metadata": {
    "id": "5-Qjwla2SG8H"
   },
   "source": [
    "## Data Overview\n",
    "The dataset contains TV shows and movies available on Netflix US."
   ]
  },
  {
   "cell_type": "code",
   "execution_count": null,
   "metadata": {
    "colab": {
     "base_uri": "https://localhost:8080/",
     "height": 429
    },
    "id": "2a5n_bYhRFlH",
    "outputId": "ed904ccc-3c9e-4541-cb26-47b97088c292"
   },
   "outputs": [
    {
     "data": {
      "text/html": [
       "<div>\n",
       "<style scoped>\n",
       "    .dataframe tbody tr th:only-of-type {\n",
       "        vertical-align: middle;\n",
       "    }\n",
       "\n",
       "    .dataframe tbody tr th {\n",
       "        vertical-align: top;\n",
       "    }\n",
       "\n",
       "    .dataframe thead th {\n",
       "        text-align: right;\n",
       "    }\n",
       "</style>\n",
       "<table border=\"1\" class=\"dataframe\">\n",
       "  <thead>\n",
       "    <tr style=\"text-align: right;\">\n",
       "      <th></th>\n",
       "      <th>show_id</th>\n",
       "      <th>type</th>\n",
       "      <th>title</th>\n",
       "      <th>director</th>\n",
       "      <th>cast</th>\n",
       "      <th>country</th>\n",
       "      <th>date_added</th>\n",
       "      <th>release_year</th>\n",
       "      <th>rating</th>\n",
       "      <th>duration</th>\n",
       "      <th>listed_in</th>\n",
       "      <th>description</th>\n",
       "    </tr>\n",
       "  </thead>\n",
       "  <tbody>\n",
       "    <tr>\n",
       "      <th>count</th>\n",
       "      <td>8807</td>\n",
       "      <td>8807</td>\n",
       "      <td>8807</td>\n",
       "      <td>6173</td>\n",
       "      <td>7982</td>\n",
       "      <td>7976</td>\n",
       "      <td>8797</td>\n",
       "      <td>8807.000000</td>\n",
       "      <td>8803</td>\n",
       "      <td>8804</td>\n",
       "      <td>8807</td>\n",
       "      <td>8807</td>\n",
       "    </tr>\n",
       "    <tr>\n",
       "      <th>unique</th>\n",
       "      <td>8807</td>\n",
       "      <td>2</td>\n",
       "      <td>8807</td>\n",
       "      <td>4528</td>\n",
       "      <td>7692</td>\n",
       "      <td>748</td>\n",
       "      <td>1767</td>\n",
       "      <td>NaN</td>\n",
       "      <td>17</td>\n",
       "      <td>220</td>\n",
       "      <td>514</td>\n",
       "      <td>8775</td>\n",
       "    </tr>\n",
       "    <tr>\n",
       "      <th>top</th>\n",
       "      <td>s5536</td>\n",
       "      <td>Movie</td>\n",
       "      <td>Héroes</td>\n",
       "      <td>Rajiv Chilaka</td>\n",
       "      <td>David Attenborough</td>\n",
       "      <td>United States</td>\n",
       "      <td>January 1, 2020</td>\n",
       "      <td>NaN</td>\n",
       "      <td>TV-MA</td>\n",
       "      <td>1 Season</td>\n",
       "      <td>Dramas, International Movies</td>\n",
       "      <td>Paranormal activity at a lush, abandoned prope...</td>\n",
       "    </tr>\n",
       "    <tr>\n",
       "      <th>freq</th>\n",
       "      <td>1</td>\n",
       "      <td>6131</td>\n",
       "      <td>1</td>\n",
       "      <td>19</td>\n",
       "      <td>19</td>\n",
       "      <td>2818</td>\n",
       "      <td>109</td>\n",
       "      <td>NaN</td>\n",
       "      <td>3207</td>\n",
       "      <td>1793</td>\n",
       "      <td>362</td>\n",
       "      <td>4</td>\n",
       "    </tr>\n",
       "    <tr>\n",
       "      <th>mean</th>\n",
       "      <td>NaN</td>\n",
       "      <td>NaN</td>\n",
       "      <td>NaN</td>\n",
       "      <td>NaN</td>\n",
       "      <td>NaN</td>\n",
       "      <td>NaN</td>\n",
       "      <td>NaN</td>\n",
       "      <td>2014.180198</td>\n",
       "      <td>NaN</td>\n",
       "      <td>NaN</td>\n",
       "      <td>NaN</td>\n",
       "      <td>NaN</td>\n",
       "    </tr>\n",
       "    <tr>\n",
       "      <th>std</th>\n",
       "      <td>NaN</td>\n",
       "      <td>NaN</td>\n",
       "      <td>NaN</td>\n",
       "      <td>NaN</td>\n",
       "      <td>NaN</td>\n",
       "      <td>NaN</td>\n",
       "      <td>NaN</td>\n",
       "      <td>8.819312</td>\n",
       "      <td>NaN</td>\n",
       "      <td>NaN</td>\n",
       "      <td>NaN</td>\n",
       "      <td>NaN</td>\n",
       "    </tr>\n",
       "    <tr>\n",
       "      <th>min</th>\n",
       "      <td>NaN</td>\n",
       "      <td>NaN</td>\n",
       "      <td>NaN</td>\n",
       "      <td>NaN</td>\n",
       "      <td>NaN</td>\n",
       "      <td>NaN</td>\n",
       "      <td>NaN</td>\n",
       "      <td>1925.000000</td>\n",
       "      <td>NaN</td>\n",
       "      <td>NaN</td>\n",
       "      <td>NaN</td>\n",
       "      <td>NaN</td>\n",
       "    </tr>\n",
       "    <tr>\n",
       "      <th>25%</th>\n",
       "      <td>NaN</td>\n",
       "      <td>NaN</td>\n",
       "      <td>NaN</td>\n",
       "      <td>NaN</td>\n",
       "      <td>NaN</td>\n",
       "      <td>NaN</td>\n",
       "      <td>NaN</td>\n",
       "      <td>2013.000000</td>\n",
       "      <td>NaN</td>\n",
       "      <td>NaN</td>\n",
       "      <td>NaN</td>\n",
       "      <td>NaN</td>\n",
       "    </tr>\n",
       "    <tr>\n",
       "      <th>50%</th>\n",
       "      <td>NaN</td>\n",
       "      <td>NaN</td>\n",
       "      <td>NaN</td>\n",
       "      <td>NaN</td>\n",
       "      <td>NaN</td>\n",
       "      <td>NaN</td>\n",
       "      <td>NaN</td>\n",
       "      <td>2017.000000</td>\n",
       "      <td>NaN</td>\n",
       "      <td>NaN</td>\n",
       "      <td>NaN</td>\n",
       "      <td>NaN</td>\n",
       "    </tr>\n",
       "    <tr>\n",
       "      <th>75%</th>\n",
       "      <td>NaN</td>\n",
       "      <td>NaN</td>\n",
       "      <td>NaN</td>\n",
       "      <td>NaN</td>\n",
       "      <td>NaN</td>\n",
       "      <td>NaN</td>\n",
       "      <td>NaN</td>\n",
       "      <td>2019.000000</td>\n",
       "      <td>NaN</td>\n",
       "      <td>NaN</td>\n",
       "      <td>NaN</td>\n",
       "      <td>NaN</td>\n",
       "    </tr>\n",
       "    <tr>\n",
       "      <th>max</th>\n",
       "      <td>NaN</td>\n",
       "      <td>NaN</td>\n",
       "      <td>NaN</td>\n",
       "      <td>NaN</td>\n",
       "      <td>NaN</td>\n",
       "      <td>NaN</td>\n",
       "      <td>NaN</td>\n",
       "      <td>2021.000000</td>\n",
       "      <td>NaN</td>\n",
       "      <td>NaN</td>\n",
       "      <td>NaN</td>\n",
       "      <td>NaN</td>\n",
       "    </tr>\n",
       "  </tbody>\n",
       "</table>\n",
       "</div>"
      ],
      "text/plain": [
       "       show_id  ...                                        description\n",
       "count     8807  ...                                               8807\n",
       "unique    8807  ...                                               8775\n",
       "top      s5536  ...  Paranormal activity at a lush, abandoned prope...\n",
       "freq         1  ...                                                  4\n",
       "mean       NaN  ...                                                NaN\n",
       "std        NaN  ...                                                NaN\n",
       "min        NaN  ...                                                NaN\n",
       "25%        NaN  ...                                                NaN\n",
       "50%        NaN  ...                                                NaN\n",
       "75%        NaN  ...                                                NaN\n",
       "max        NaN  ...                                                NaN\n",
       "\n",
       "[11 rows x 12 columns]"
      ]
     },
     "execution_count": 4,
     "metadata": {},
     "output_type": "execute_result"
    }
   ],
   "source": [
    "netdf.describe(include = 'all')"
   ]
  },
  {
   "cell_type": "markdown",
   "metadata": {
    "id": "VA0j1bY0UNAD"
   },
   "source": [
    "The netflix dataset contains 11 columns, excluding the show_id column.\n",
    "\n",
    "- There are 8807 entries.\n",
    "- "
   ]
  },
  {
   "cell_type": "code",
   "execution_count": null,
   "metadata": {
    "colab": {
     "base_uri": "https://localhost:8080/"
    },
    "id": "h2e010l6Sb4z",
    "outputId": "493d55d2-66f3-48dc-9128-3fd93aaef8d7"
   },
   "outputs": [
    {
     "name": "stdout",
     "output_type": "stream",
     "text": [
      "['Movie' 'TV Show']\n",
      "There are 2 types of programs, which is a movie or TV show\n",
      "There are 8807 unique titles\n",
      "There are 4529 unique directors\n",
      "There are 7693 unique cast\n",
      "There movies/shows were added in 1768 unique dates\n",
      "There are 18 unique ratings\n",
      "There are 221 unique durations\n",
      "There are 514 unique listings\n",
      "There are 8775 unique descriptions.\n",
      "There are 74 unique release year dates\n"
     ]
    }
   ],
   "source": [
    "# types of listing \"type\"\n",
    "print(netdf.type.unique())\n",
    "print('There are 2 types of programs, which is a movie or TV show')\n",
    "\n",
    "# unique title\n",
    "unique_titles = len(netdf.title.unique())\n",
    "print(f'There are {unique_titles} unique titles')\n",
    "\n",
    "# unique directors\n",
    "unique_directors = len(netdf.director.unique())\n",
    "print(f'There are {unique_directors} unique directors')\n",
    "\n",
    "# unique cast involved in a program\n",
    "unique_cast = len(netdf.cast.unique())\n",
    "print(f'There are {unique_cast} unique cast')\n",
    "\n",
    "#dates added\n",
    "dates_added = len(netdf.date_added.unique())\n",
    "print(f'There movies/shows were added in {dates_added} unique dates')\n",
    "\n",
    "# ratings\n",
    "unique_ratings = len(netdf.rating.unique())\n",
    "print(f'There are {unique_ratings} unique ratings')\n",
    "\n",
    "# duration\n",
    "unique_duration = len(netdf.duration.unique())\n",
    "print(f'There are {unique_duration} unique durations')\n",
    "\n",
    "# different listings\n",
    "unique_listings = len(netdf.listed_in.unique())\n",
    "print(f'There are {unique_listings} unique listings')\n",
    "\n",
    "# We expect each unique movie to have its unique listing\n",
    "unique_descriptions = len(netdf.description.unique())\n",
    "print(f'There are {unique_descriptions} unique descriptions.')\n",
    "\n",
    "# release years\n",
    "unique_release_year = len(netdf.release_year.unique())\n",
    "print(f'There are {unique_release_year} unique release year dates')"
   ]
  },
  {
   "cell_type": "code",
   "execution_count": null,
   "metadata": {
    "colab": {
     "base_uri": "https://localhost:8080/"
    },
    "id": "5CsHuLPbXyk5",
    "outputId": "e3acd164-cc05-443c-b2f8-1fe98db45f10"
   },
   "outputs": [
    {
     "name": "stdout",
     "output_type": "stream",
     "text": [
      "['United States', 'South Africa', nan, 'India', 'United States, Ghana, Burkina Faso, United Kingdom, Germany, Ethiopia', 'United Kingdom', 'Germany, Czech Republic', 'Mexico', 'Turkey', 'Australia', 'United States, India, France', 'Finland', 'China, Canada, United States', 'South Africa, United States, Japan', 'Nigeria', 'Japan', 'Spain, United States', 'France', 'Belgium', 'United Kingdom, United States', 'United States, United Kingdom', 'France, United States', 'South Korea', 'Spain', 'United States, Singapore', 'United Kingdom, Australia, France', 'United Kingdom, Australia, France, United States', 'United States, Canada', 'Germany, United States', 'South Africa, United States', 'United States, Mexico', 'United States, Italy, France, Japan', 'United States, Italy, Romania, United Kingdom', 'Australia, United States', 'Argentina, Venezuela', 'United States, United Kingdom, Canada', 'China, Hong Kong', 'Russia', 'Canada', 'Hong Kong', 'United States, China, Hong Kong', 'Italy, United States', 'United States, Germany', 'United Kingdom, Canada, United States', ', South Korea', 'Ireland', 'India, Nepal', 'New Zealand, Australia, France, United States', 'Italy', 'Italy, Brazil, Greece', 'Argentina', 'Jordan', 'Colombia', 'United States, Japan', 'Belgium, United Kingdom', 'Switzerland, United Kingdom, Australia', 'Israel, United States', 'Canada, United States', 'Brazil', 'Argentina, Spain', 'Taiwan', 'United States, Nigeria', 'Bulgaria, United States', 'Spain, United Kingdom, United States', 'United States, China', 'United States, France', 'Spain, France, United Kingdom, United States', ', France, Algeria', 'Poland', 'Germany', 'France, Israel, Germany, United States, United Kingdom', 'New Zealand', 'Saudi Arabia', 'Thailand', 'Indonesia', 'Egypt, Denmark, Germany', 'United States, Switzerland', 'Hong Kong, Canada, United States', 'Kuwait, United States', 'France, Canada, United States, Spain', 'France, Netherlands, Singapore', 'France, Belgium', 'Ireland, United States, United Kingdom', 'Egypt', 'Malaysia', 'Israel', 'Australia, New Zealand', 'United Kingdom, Germany', 'Belgium, Netherlands', 'South Korea, Czech Republic', 'Australia, Germany', 'Vietnam', 'United Kingdom, Belgium', 'United Kingdom, Australia, United States', 'France, Japan, United States', 'United Kingdom, Germany, Spain, United States', 'United Kingdom, United States, France, Italy', 'United States, Germany, Canada', 'United States, France, Italy, United Kingdom', 'United States, United Kingdom, Germany, Hungary', 'United States, New Zealand', 'Sweden', 'China', 'Lebanon', 'Romania', 'Finland, Germany', 'Lebanon, Syria', 'Philippines', 'Iceland', 'Denmark', 'United States, India', 'Philippines, Singapore, Indonesia', 'China, United States, Canada', 'Lebanon, United Arab Emirates', 'Canada, United States, Denmark', 'United Arab Emirates', 'Mexico, France, Colombia', 'Netherlands', 'Germany, United States, France', 'United States, Bulgaria', 'United Kingdom, France, Germany, United States', 'Norway, Denmark', 'Syria, France, Lebanon, Qatar', 'United States, Czech Republic', 'Mauritius', 'Canada, South Africa', 'Austria', 'Mexico, Brazil', 'Germany, France', 'Mexico, United States', 'United Kingdom, France, Spain, United States', 'United States, Australia', 'United States, United Kingdom, France', 'United States, Russia', 'United States, United Kingdom, New Zealand', 'Australia, United Kingdom', 'Canada, Nigeria, United States', 'France, United States, United Kingdom, Canada', 'France, United Kingdom', 'India, United Kingdom', 'Canada, United States, Mexico', 'United Kingdom, Germany, United States', 'Czech Republic, United Kingdom, United States', 'China, United Kingdom', 'Italy, United Kingdom', 'China, Taiwan', 'United States, Brazil, Japan, Spain, India', 'United States, China, United Kingdom', 'Cameroon', 'Lebanon, Palestine, Denmark, Qatar', 'Japan, United States', 'Uruguay, Germany', 'Egypt, Saudi Arabia', 'United Kingdom, France, Poland, Germany, United States', 'Ireland, Switzerland, United Kingdom, France, United States', 'United Kingdom, South Africa, France', 'Ireland, United Kingdom, France, Germany', 'Russia, United States', 'United Kingdom, United States, France', 'United Kingdom,', 'United States, India, United Kingdom', 'Kenya', 'Spain, Argentina', 'India, United Kingdom, France, Qatar', 'Belgium, France', 'Argentina, Chile', 'United States, Thailand', 'Chile, Brazil', 'United States, Colombia', 'Canada, United States, United Kingdom', 'Uruguay', 'Luxembourg', 'United States, Cambodia, Romania', 'Bangladesh', 'Spain, Belgium, United States', 'United Kingdom, United States, Australia', 'Canada, United States, France', 'Portugal, United States', 'Portugal, Spain', 'India, United States', 'United Kingdom, Ireland', 'United Kingdom, Spain, United States', 'Hungary, United States', 'United States, South Korea', 'Canada, United States, Cayman Islands', 'India, France', 'France, Canada', 'Canada, Hungary, United States', 'Norway', 'Canada, United Kingdom, United States', 'United Kingdom, Germany, France, United States', 'Denmark, United States', 'Senegal', 'France, Algeria', 'United Kingdom, Finland, Germany, United States, Australia, Japan, France, Ireland', 'Philippines, Canada, United Kingdom, United States', 'Ireland, France, Iceland, United States, Mexico, Belgium, United Kingdom, Hong Kong', 'Singapore', 'Kuwait', 'United States, France, Serbia', 'United States, Italy', 'Spain, Italy', 'United States, Ireland, United Kingdom, India', 'United Kingdom, Singapore', 'Hong Kong, United States', 'United States, Malta, France, United Kingdom', 'United States, China, Canada', 'Canada, United States, Ireland', 'Lebanon, Canada, France', 'Japan, Canada, United States', 'Spain, France, Canada', 'Denmark, Singapore, Canada, United States', 'United States, France, Denmark', 'United States, China, Colombia', 'Spain, Thailand, United States', 'Mexico, Spain', 'Ireland, Luxembourg, Belgium', 'China, United States', 'Canada, Belgium', 'Canada, United Kingdom', 'Lebanon, United Arab Emirates, France, Switzerland, Germany', 'France, Belgium, Italy', 'Lebanon, United States, United Arab Emirates', 'Lebanon, France', 'France, Lebanon', 'France, Lebanon, United Kingdom', 'France, Norway, Lebanon, Belgium', 'Sweden, Czech Republic, United Kingdom, Denmark, Netherlands', 'United States, United Kingdom, India', 'Indonesia, Netherlands', 'Turkey, South Korea', 'Serbia, United States', 'Namibia', 'United Kingdom, Kenya', 'United Kingdom, France, Germany, Spain', 'United Kingdom, France, United States, Belgium, Luxembourg, China, Germany', 'Thailand, United States', 'United States, France, Canada, Belgium', 'United Kingdom, China', 'Germany, China, United Kingdom', 'Australia, New Zealand, United States', 'Hong Kong, Iceland, United States', 'France, Australia, Germany', 'United States, Belgium, Canada, France', 'South Africa, Angola', 'United States, Philippines', 'United States, United Kingdom, Canada, China', 'United States, Canada, United Kingdom', 'Turkey, United States', 'Peru, Germany, Norway', 'Mozambique', 'Brazil, France', 'China, Spain, South Korea, United States', 'Spain, Germany', 'Hong Kong, China', 'France, Belgium, Luxembourg, Cambodia,', 'United Kingdom, Australia', 'Belarus', 'Indonesia, United Kingdom', 'Switzerland, France, Belgium, United States', 'Ghana', 'Spain, France, Canada, United States', 'Chile, Italy', 'United Kingdom, Nigeria', 'Chile', 'France, Egypt', 'Egypt, France', 'France, Brazil, Spain, Belgium', 'Egypt, Algeria', 'Canada, South Korea, United States', 'Nigeria, United Kingdom', 'United States, France, Canada', 'Poland, United States', 'United Arab Emirates, Jordan, Lebanon, Saudi Arabia', 'United States, Mexico, Spain, Malta', 'Saudi Arabia, United Arab Emirates', 'Zimbabwe', 'United Kingdom, Germany, United Arab Emirates, New Zealand', 'Romania, United States', 'Canada, Nigeria', 'Saudi Arabia, Netherlands, Germany, Jordan, United Arab Emirates, United States', 'United Kingdom, Spain', 'Finland, France', 'United Kingdom, Germany, United States, France', 'India, United Kingdom, China, Canada, Japan, South Korea, United States', 'Italy, United Kingdom, France', 'United States, Mexico, Colombia', 'Turkey, India', 'Italy, Turkey', 'United Kingdom, United States, Japan', 'France, Belgium, United States', 'Puerto Rico, United States, Colombia', 'Uruguay, Argentina', 'United States, United Kingdom, Japan', 'United States, Argentina', 'United Kingdom, Italy', 'Ireland, United Kingdom', 'United Kingdom, France, Belgium, Canada, United States', 'Netherlands, Germany, Denmark, United Kingdom', 'Hungary', 'Austria, Germany', 'Taiwan, China', 'United Kingdom, United States, Ireland', 'South Korea, United States', 'Brazil, United Kingdom', 'Pakistan, United States', 'Romania, France, Switzerland, Germany', 'Romania, United Kingdom', 'France, Malta, United States', 'Cyprus', 'United Kingdom, France, Belgium, Ireland, United States', 'United States, Norway, Canada', 'Kenya, United States', 'France, South Korea, Japan, United States', 'Taiwan, Malaysia', 'Uruguay, Argentina, Germany, Spain', 'United States, United Kingdom, France, Germany, Japan', 'United States, France, Japan', 'United Kingdom, France, United States', 'Spain, France, United States', 'Indonesia, South Korea, Singapore', 'United States, Spain', 'Netherlands, Germany, Italy, Canada', 'Spain, Germany, Denmark, United States', 'Norway, Sweden', 'South Korea, Canada, United States, China', 'Argentina, Uruguay, Serbia', 'France, Japan', 'Mauritius, South Africa', 'United States, Poland', 'United Kingdom, United States, Germany, Denmark, Belgium, Japan', 'India, Germany', 'India, United Kingdom, Canada, United States', 'Philippines, United States', 'Romania, Bulgaria, Hungary', 'Uruguay, Guatemala', 'France, Senegal, Belgium', 'United Kingdom, Canada', 'Mexico, United States, Spain, Colombia', 'Canada, Norway', 'Singapore, United States', 'Finland, Germany, Belgium', 'United Kingdom, France', 'United States, Chile', 'United Kingdom, Japan, United States', 'Spain, United Kingdom', 'Argentina, United States, Mexico', 'United States, South Korea, Japan', 'Canada, Australia', 'United Kingdom, Hungary, Australia', 'Italy, Belgium', 'United States, United Kingdom, Germany', 'Switzerland', 'Singapore, Malaysia', 'France, Belgium, Luxembourg, Romania, Canada, United States', 'South Africa, Nigeria', 'Spain, France', 'United Kingdom, Hong Kong', 'Pakistan', 'Brazil, United States', 'Denmark, Brazil, France, Portugal, Sweden', 'India, Turkey', 'Malaysia, Singapore, Hong Kong', 'Philippines, Singapore', 'Australia, Canada', 'Taiwan, China, France, United States', 'Germany, Italy', 'Colombia, Peru, United Kingdom', 'Thailand, China, United States', 'Argentina, United States', 'Sweden, United States', 'Uruguay, Spain, Mexico', 'France, Luxembourg, Canada', 'Denmark, Spain', 'Chile, Argentina', 'United Kingdom, Belgium, Sweden', 'Canada, Brazil', 'Italy, France', 'Canada, Germany', 'Pakistan, United Arab Emirates', 'Ghana, United States', 'Mexico, Finland', 'United Arab Emirates, United Kingdom, India', 'Netherlands, Belgium', 'United States, Taiwan', 'Austria, Iraq, United States', 'United Kingdom, Malawi', 'Paraguay, Argentina', 'United Kingdom, Russia, United States', 'India, Pakistan', 'Indonesia, Singapore', 'Spain, Belgium', 'Iceland, Sweden, Belgium', 'Croatia', 'Uruguay, Argentina, Spain', 'United Kingdom, Ireland, United States', 'Canada, Germany, France, United States', 'United Kingdom, Japan', 'Norway, Denmark, Netherlands, Sweden', 'Hong Kong, China, United States', 'Ireland, Canada', 'Italy, Switzerland, France, Germany', 'Mexico, Netherlands', 'United States, Sweden', 'Germany, France, Russia', 'France, Iran, United States', 'United Kingdom, India', 'Russia, Poland, Serbia', 'Spain, Portugal', 'Peru', 'Mexico, Argentina', 'United Kingdom, Canada, United States, Cayman Islands', 'Indonesia, United States', 'United States, Israel, United Kingdom, Canada', 'Norway, Iceland, United States', 'Czech Republic, United States', 'United Kingdom, India, United States', 'United Kingdom, West Germany', 'India, Australia', 'United States,', 'Belgium, United Kingdom, United States', 'India, Germany, Austria', 'United States, Brazil, South Korea, Mexico, Japan, Germany', 'Spain, Mexico', 'China, Japan', 'Argentina, France', 'China, United States, United Kingdom', 'France, Luxembourg, United States', 'China, United States, Australia', 'Colombia, Mexico', 'United States, Canada, Ireland', 'Chile, Peru', 'Argentina, Italy', 'Canada, Japan, United States', 'United Kingdom, Canada, United States, Germany', 'Italy, Switzerland, Albania, Poland', 'United States, Japan, Canada', 'Cambodia', 'Italy, United States, Argentina', 'Saudi Arabia, Syria, Egypt, Lebanon, Kuwait', 'United States, Canada, Indonesia, United Kingdom, China, Singapore', 'Spain, Colombia', 'United Kingdom, South Africa, Australia, United States', 'Bulgaria', 'Argentina, Brazil, France, Poland, Germany, Denmark', 'United Kingdom, Spain, United States, Germany', 'Philippines, Qatar', 'Netherlands, Belgium, Germany, Jordan', 'United Arab Emirates, United States', 'Norway, Germany, Sweden', 'South Korea, China', 'Georgia', 'Soviet Union, India', 'Australia, United Arab Emirates', 'Canada, Germany, South Africa', 'South Korea, China, United States', 'India, Soviet Union', 'India, Mexico', 'Georgia, Germany, France', 'United Arab Emirates, Romania', 'India, Malaysia', 'Germany, Jordan, Netherlands', 'Turkey, France, Germany, Poland', 'Greece, United States', 'France, United Kingdom, United States', 'Norway, Germany', 'France, Morocco', 'Cambodia, United States', 'United States, Denmark', 'United States, Colombia, Mexico', 'United Kingdom, Italy, Israel, Peru, United States', 'Argentina, Uruguay, Spain, France', 'United Kingdom, France, United States, Belgium', 'France, Canada, China, Cambodia', 'United Kingdom, France, Belgium, United States', 'Chile, France', 'Netherlands, United States', 'France, United Kingdom, India', 'Czech Republic, Slovakia', 'Singapore, France', 'Spain, Switzerland', 'United States, Australia, China', 'South Africa, United States, Germany', 'United States, United Kingdom, Australia', 'Spain, Italy, Argentina', 'Chile, Spain, Argentina, Germany', 'West Germany', 'Austria, Czech Republic', 'Lebanon, Qatar', 'United Kingdom, Jordan, Qatar, Iran', 'France, South Korea, Japan', 'Israel, Germany, France', 'Canada, Japan, Netherlands', 'United States, Hungary', 'France, Germany', 'France, Qatar', 'United Kingdom, Germany, Canada', 'Ireland, South Africa', 'Chile, United States, France', 'Belgium, France, Netherlands', 'United Kingdom, Ukraine, United States', 'Germany, Australia, France, China', 'Norway, United States', 'United States, Bermuda, Ecuador', 'United States, Hungary, Ireland, Canada', 'United Kingdom, Egypt, United States', 'United States, France, United Kingdom', 'Spain, Mexico, France', 'United States, South Africa', 'Hong Kong, China, Singapore', 'South Africa, China, United States', 'Denmark, France, Poland', 'New Zealand, United Kingdom', 'Netherlands, Denmark, South Africa', 'Iran, France', 'United Kingdom, United States, France, Germany', 'Australia, France', 'Ireland, United Kingdom, United States', 'United Kingdom, France, Germany', 'Canada, Luxembourg', 'Brazil, Netherlands, United States, Colombia, Austria, Germany', 'France, Canada, Belgium', 'Canada, France', 'Bulgaria, United States, Spain, Canada', 'Sweden, Netherlands', 'France, United States, Mexico', 'Australia, United Kingdom, United Arab Emirates, Canada', 'Australia, Armenia, Japan, Jordan, Mexico, Mongolia, New Zealand, Philippines, South Africa, Sweden, United States, Uruguay', 'India, Iran', 'France, Belgium, Spain', 'Denmark, Sweden, Israel, United States', 'United States, Iceland', 'United Kingdom, Russia', 'United States, Israel, Italy, South Africa', 'Netherlands, Denmark, France, Germany', 'South Korea, Japan', 'United Kingdom, Pakistan', 'France, New Zealand', 'United Kingdom, Czech Republic, United States, Germany, Bahamas', 'China, Germany, India, United States', 'Germany, Sri Lanka', 'United States, India, Bangladesh', 'United States, Canada, France', 'Brazil, France, Germany', 'Germany, United States, Hong Kong, Singapore', 'France, Germany, Switzerland', 'Germany, France, Luxembourg, United Kingdom, United States', 'United Kingdom, Canada, Italy', 'Czech Republic, France', 'Taiwan, Hong Kong, United States, China', 'Germany, Australia', 'United Kingdom, Poland, United States', 'Denmark, Zimbabwe', 'United Kingdom, South Africa', 'Finland, Sweden, Norway, Latvia, Germany', 'South Africa, United States, New Zealand, Canada', 'United States, Italy, United Kingdom, Liechtenstein', 'Denmark, France, Belgium, Italy, Netherlands, United States, United Kingdom', 'United States, Australia, Mexico', 'United Kingdom, Czech Republic, Germany, United States', 'France, China, Japan, United States', 'United States, South Korea, China', 'Germany, Belgium', 'Pakistan, Norway, United States', 'United States, Canada, Belgium, United Kingdom', 'Venezuela', 'Canada, France, Italy, Morocco, United States', 'Canada, Spain, France', 'United States, Indonesia', 'Spain, France, Italy', 'United Arab Emirates, United States, United Kingdom', 'United Kingdom, Israel, Russia', 'Spain, Cuba', 'United States, Brazil', 'United States, France, Mexico', 'United States, Nicaragua', 'United Kingdom, United States, Spain, Germany, Greece, Canada', 'Italy, Canada, France', 'United Kingdom, Denmark, Canada, Croatia', 'Italy, Germany', 'United States, France, United Kingdom, Japan', 'United States, United Kingdom, Denmark, Sweden', 'United States, United Kingdom, Italy', 'United States, France, Canada, Spain', 'Russia, United States, China', 'United States, Canada, Germany', 'Ireland, United States', 'United States, United Arab Emirates', 'United States, Ireland', 'Ireland, United Kingdom, Italy, United States', 'Poland,', 'Slovenia, Croatia, Germany, Czech Republic, Qatar', 'Canada, United Kingdom, Netherlands', 'United States, Spain, Germany', 'India, Japan', 'China, South Korea, United States', 'United Kingdom, France, Belgium', 'Canada, Ireland, United States', 'United Kingdom, United States, Dominican Republic', 'United States, Senegal', 'Germany, United Kingdom, United States', 'South Africa, Germany, Netherlands, France', 'Canada, United States, United Kingdom, France, Luxembourg', 'Ireland, United States, France', 'Germany, United States, Canada', 'United Kingdom, Germany, Canada, United States', 'United States, France, Canada, Lebanon, Qatar', 'Netherlands, Belgium, United Kingdom, United States', 'France, Belgium, China, United States', 'United States, Chile, Israel', 'United Kingdom, Norway, Denmark, Germany, Sweden', 'Norway, Denmark, Sweden', 'China, India, Nepal', 'Colombia, Mexico, United States', 'United Kingdom, South Korea', 'Denmark, China', 'United States, Greece, Brazil', 'South Korea, France', 'United States, Australia, Samoa, United Kingdom', 'Germany, United Kingdom', 'Argentina, Chile, Peru', 'Turkey, Azerbaijan', 'Poland, West Germany', 'Germany, United States, Sweden', 'Canada, Spain', 'United States, Cambodia', 'United States, Greece', 'Norway, United Kingdom, France, Ireland', 'United Kingdom, Poland', 'Israel, Sweden, Germany, Netherlands', 'Switzerland, France', 'Italy, India', 'United States, Botswana', 'Chile, Argentina, France, Spain, United States', 'United States, India, South Korea, China', 'Denmark, Germany, Belgium, United Kingdom, France', 'Denmark, Germany, Belgium, United Kingdom, France, Sweden', 'France, Switzerland, Spain, United States, United Arab Emirates', 'Brazil, India, China, United States', 'Denmark, France, United States, Sweden', 'Australia, Iraq', 'China, Morocco, Hong Kong', 'Canada, United States, Germany', 'United Kingdom, Thailand', 'Venezuela, Colombia', 'Colombia, United States', 'France, Germany, Czech Republic, Belgium', 'Switzerland, Vatican City, Italy, Germany, France', 'Portugal, France, Poland, United States', 'United States, New Zealand, Japan', 'United States, Netherlands, Japan, France', 'India, Switzerland', 'Canada, India', 'United States, Morocco', 'Singapore, Japan, France', 'Canada, Mexico, Germany, South Africa', 'United Kingdom, United States, Canada', 'Germany, France, United States, Canada, United Kingdom', 'United States, Uruguay', 'India, Canada', 'Ireland, Canada, United Kingdom, United States', 'United States, Germany, Australia', 'Australia, France, Ireland', 'Australia, India', 'United States, United Kingdom, Canada, Japan', 'Sweden, United Kingdom, Finland', 'Hong Kong, Taiwan', 'United States, United Kingdom, Spain, South Korea', 'Guatemala', 'Ukraine', 'Italy, South Africa, West Germany, Australia, United States', 'United States, Germany, United Kingdom, Australia', 'Italy, France, Switzerland', 'Canada, France, United States', 'Switzerland, United States', 'Thailand, Canada, United States', 'China, Hong Kong, United States', 'United Kingdom, New Zealand', 'Czech Republic, United Kingdom, France', 'Australia, United Kingdom, Canada', 'Jamaica, United States', 'Australia, United Kingdom, United States, New Zealand, Italy, France', 'France, United States, Canada', 'United Kingdom, France, Canada, Belgium, United States', 'Denmark, United Kingdom, Sweden', 'United States, Hong Kong', 'United States, Kazakhstan', 'Argentina, France, United States, Germany, Qatar', 'United States, Germany, United Kingdom', 'United States, Germany, United Kingdom, Italy', 'United States, New Zealand, United Kingdom', 'Finland, United States', 'Spain, France, Uruguay', 'France, Canada, United States', 'United States, Canada, China', 'Ireland, Canada, Luxembourg, United States, United Kingdom, Philippines, India', 'United States, Czech Republic, United Kingdom', 'Israel, Germany', 'Mexico, France', 'Israel, Germany, Poland, Luxembourg, Belgium, France, United States', 'Austria, United States', 'United Kingdom, Lithuania', 'United States, Greece, United Kingdom', 'United Kingdom, China, United States, India', 'United States, Sweden, Norway', 'United Kingdom, United States, Morocco', 'United States, United Kingdom, Morocco', 'Spain, Canada, United States', 'United States, India, United Arab Emirates', 'United Kingdom, Canada, France, United States', 'India, Germany, France', 'Belgium, Ireland, Netherlands, Germany, Afghanistan', 'France, Canada, Italy, United States, China', 'Ireland, United Kingdom, Greece, France, Netherlands', 'Denmark, Indonesia, Finland, Norway, United Kingdom, Israel, France, United States, Germany, Netherlands', 'New Zealand, United States', 'United States, Australia, South Africa, United Kingdom', 'United States, Germany, Mexico', 'Somalia, Kenya, Sudan, South Africa, United States', 'United States, Canada, Japan, Panama', 'United Kingdom, Spain, Belgium', 'Serbia, South Korea, Slovenia', 'Denmark, United Kingdom, South Africa, Sweden, Belgium', 'Germany, Canada, United States', 'Ireland, Canada, United States, United Kingdom', 'New Zealand, United Kingdom, Australia', 'United Kingdom, Australia, Canada, United States', 'Germany, United States, Italy', 'United States, Venezuela', 'United Kingdom, Canada, Japan', 'United Kingdom, United States, Czech Republic', 'United Kingdom, China, United States', 'United Kingdom, Brazil, Germany', 'United Kingdom, Namibia, South Africa, Zimbabwe, United States', 'Canada, United States, India, United Kingdom', 'Switzerland, United Kingdom, United States', 'United Kingdom, India, Sweden', 'United States, Brazil, India, Uganda, China', 'Peru, United States, United Kingdom', 'Germany, United States, United Kingdom, Canada', 'Canada, India, Thailand, United States, United Arab Emirates', 'United States, East Germany, West Germany', 'France, Netherlands, South Africa, Finland', 'Egypt, Austria, United States', 'Russia, Spain', 'Croatia, Slovenia, Serbia, Montenegro', 'Japan, Canada', 'United States, France, South Korea, Indonesia', 'United Arab Emirates, Jordan']\n"
     ]
    }
   ],
   "source": [
    "print(list(netdf.country.unique()))"
   ]
  },
  {
   "cell_type": "markdown",
   "metadata": {
    "id": "EalQUWFnANuS"
   },
   "source": [
    "From the list above, it is not easy to tell the unique country content release as multiple countries were involved in some shows/movies. The order in which they are listed will require preprocessing."
   ]
  },
  {
   "cell_type": "markdown",
   "metadata": {
    "id": "Qj_JUT-uAtoV"
   },
   "source": [
    "## Columns with missing values"
   ]
  },
  {
   "cell_type": "code",
   "execution_count": null,
   "metadata": {
    "colab": {
     "base_uri": "https://localhost:8080/"
    },
    "id": "EQrIWHJRYA4Z",
    "outputId": "54036774-1067-4f31-9d80-a4cb3eaa9b74"
   },
   "outputs": [
    {
     "name": "stdout",
     "output_type": "stream",
     "text": [
      "show_id            0\n",
      "type               0\n",
      "title              0\n",
      "director        2634\n",
      "cast             825\n",
      "country          831\n",
      "date_added        10\n",
      "release_year       0\n",
      "rating             4\n",
      "duration           3\n",
      "listed_in          0\n",
      "description        0\n",
      "dtype: int64\n"
     ]
    }
   ],
   "source": [
    "print(netdf.isna().sum())"
   ]
  },
  {
   "cell_type": "markdown",
   "metadata": {
    "id": "yQpcmYHLA84H"
   },
   "source": [
    "The director, cast, date_added,ratings, and durations are the columns with missing values. The director columns contain the most missing values."
   ]
  },
  {
   "cell_type": "code",
   "execution_count": null,
   "metadata": {
    "colab": {
     "base_uri": "https://localhost:8080/"
    },
    "id": "UQKl8g79A41b",
    "outputId": "90643f39-b17f-4d86-d623-6680f90da3c5"
   },
   "outputs": [
    {
     "name": "stdout",
     "output_type": "stream",
     "text": [
      "True\n"
     ]
    }
   ],
   "source": [
    "## Duplicates\n",
    "\n",
    "# we check the number of unique title if it corresponds with the number of entries\n",
    "print(len(netdf.show_id.unique()) == len(netdf.title.unique()))"
   ]
  },
  {
   "cell_type": "markdown",
   "metadata": {
    "id": "pdzmNR14COpM"
   },
   "source": [
    "Since the number of rows of show_id and titles is equal. there are unique content titles provided. \n"
   ]
  },
  {
   "cell_type": "code",
   "execution_count": null,
   "metadata": {
    "colab": {
     "base_uri": "https://localhost:8080/"
    },
    "id": "i5tJr8PnDMQW",
    "outputId": "3db2d9f0-1477-4cd8-e354-5bc41269b114"
   },
   "outputs": [
    {
     "data": {
      "text/plain": [
       "count    8807.000000\n",
       "mean     2014.180198\n",
       "std         8.819312\n",
       "min      1925.000000\n",
       "25%      2013.000000\n",
       "50%      2017.000000\n",
       "75%      2019.000000\n",
       "max      2021.000000\n",
       "Name: release_year, dtype: float64"
      ]
     },
     "execution_count": 9,
     "metadata": {},
     "output_type": "execute_result"
    }
   ],
   "source": [
    "(netdf.release_year.describe())"
   ]
  },
  {
   "cell_type": "code",
   "execution_count": null,
   "metadata": {
    "id": "rPhKXMWqESND"
   },
   "outputs": [],
   "source": [
    "# netdf.type.sum().plot.bar(x='content type', y= 'count', rot=45)\n"
   ]
  },
  {
   "cell_type": "code",
   "execution_count": null,
   "metadata": {
    "colab": {
     "base_uri": "https://localhost:8080/",
     "height": 298
    },
    "id": "dhgXzWiUEcgE",
    "outputId": "04904938-a9a4-4c25-9b59-6f272bea7e7b"
   },
   "outputs": [
    {
     "data": {
      "image/png": "[encoded data removed]",
      "text/plain": [
       "<Figure size 432x288 with 1 Axes>"
      ]
     },
     "metadata": {},
     "output_type": "display_data"
    }
   ],
   "source": [
    "netdf.type.value_counts().plot.bar(x='content_type', y= 'count', rot=45)\n",
    "plt.show()"
   ]
  },
  {
   "cell_type": "markdown",
   "metadata": {
    "id": "99QUvV8qFT7_"
   },
   "source": [
    "There are more movies than tv shows in the dataset."
   ]
  },
  {
   "cell_type": "code",
   "execution_count": null,
   "metadata": {
    "colab": {
     "base_uri": "https://localhost:8080/",
     "height": 343
    },
    "id": "XDzdEAe-FH0s",
    "outputId": "354bba47-1512-4b8d-83b8-6dc5737b0835"
   },
   "outputs": [
    {
     "data": {
      "image/png": "[encoded data removed]",
      "text/plain": [
       "<Figure size 720x360 with 2 Axes>"
      ]
     },
     "metadata": {},
     "output_type": "display_data"
    }
   ],
   "source": [
    "#5. Distribution of movie duration\n",
    "# series of movies\n",
    "movies = netdf.where(netdf.type == 'Movie')\n",
    "movie_duration = movies.duration\n",
    "# fill na with 0 minutes\n",
    "movie_duration1 = movie_duration.fillna(0)\n",
    "# drop na\n",
    "movie_duration2 = movie_duration.dropna()\n",
    "# function to remove the \"min\" so we get numerical values only\n",
    "def clean_movie_duration(x):\n",
    "  if type(x) == int:\n",
    "    return x\n",
    "  return int(x.split()[0])\n",
    "\n",
    "movie_duration1 = movie_duration1.apply(clean_movie_duration)\n",
    "movie_duration2 = movie_duration2.apply(clean_movie_duration)\n",
    "# plot distributions of movies by time in minutes\n",
    "fig, axes= plt.subplots(1, 2, figsize = (10, 5))\n",
    "\n",
    "axes[0].set_title('nan filled with zeros')\n",
    "axes[1].set_title('nan removed')\n",
    "axes[0].set_xlabel('duration(minutes)')\n",
    "axes[1].set_xlabel('duration(minutes)')\n",
    "sns.histplot(movie_duration1, kde=True, ax = axes[0])\n",
    "sns.histplot(movie_duration2, kde = True, ax = axes[1])\n",
    "fig.tight_layout(pad=2.0)\n",
    "plt.show()"
   ]
  },
  {
   "cell_type": "markdown",
   "metadata": {
    "id": "z4PnOZlsGCq_"
   },
   "source": [
    "The first distribution shows the movie duration with nan values set to zero. This caused outliers as we cannot have movies with a zero duration.\n",
    "\n",
    "In the right distribution plot, we removed the outliers and we can observe that the duration of movies follow a normal distribution."
   ]
  },
  {
   "cell_type": "code",
   "execution_count": null,
   "metadata": {
    "colab": {
     "base_uri": "https://localhost:8080/",
     "height": 355
    },
    "id": "SpVbqBGTGAR2",
    "outputId": "d7c90f28-e36f-41b8-940f-72cbc4b8c80c"
   },
   "outputs": [
    {
     "data": {
      "image/png": "[encoded data removed]",
      "text/plain": [
       "<Figure size 720x360 with 2 Axes>"
      ]
     },
     "metadata": {},
     "output_type": "display_data"
    }
   ],
   "source": [
    "# 5.Exploring the TV shows distribution\n",
    "\n",
    "# series of movies\n",
    "tv_shows = netdf.where(netdf.type == 'TV Show')\n",
    "tv_shows_duration = tv_shows.duration\n",
    "# drop na\n",
    "tv_shows_duration = tv_shows_duration.dropna()\n",
    "# function to remove the \"min\" so we get numerical values only\n",
    "def clean_tv_shows_duration(x):\n",
    "  if type(x) == int:\n",
    "    return x\n",
    "  return int(x.split()[0])\n",
    "\n",
    "tv_shows_duration = tv_shows_duration.apply(clean_tv_shows_duration)\n",
    "# plot distributions of movies by time in minutes\n",
    "fig, axes= plt.subplots(1, 2, figsize = (10, 5))\n",
    "\n",
    "\n",
    "axes[0].set_title('TV shows duration')\n",
    "axes[0].set_xlabel('duration(seasons)')\n",
    "axes[1].set_xlabel('duration(seasons)')\n",
    "sns.histplot(tv_shows_duration, kde=True, ax = axes[0])\n",
    "sns.kdeplot(tv_shows_duration, ax = axes[1])\n",
    "plt.show()"
   ]
  },
  {
   "cell_type": "markdown",
   "metadata": {
    "id": "-WJ1_ZK6L36l"
   },
   "source": [
    "From the kde plot on the right, we can tell the duration of TV shows is positively skewed. "
   ]
  },
  {
   "cell_type": "markdown",
   "metadata": {
    "id": "lIGK5G-_OJEV"
   },
   "source": [
    "## Content age on release\n",
    "To find the age of the content when it is released, we look at date added and release year columns and calculate the difference in years between the two."
   ]
  },
  {
   "cell_type": "code",
   "execution_count": null,
   "metadata": {
    "id": "GvkPw9SdOIr4"
   },
   "outputs": [],
   "source": [
    "# drop rows where added_year is nan\n",
    "added_yeardf = netdf.copy()\n",
    "added_yeardf = added_yeardf[added_yeardf.date_added.isnull() == False]\n",
    "added_year = added_yeardf.date_added.dropna()\n",
    "added_year = added_year.apply(lambda x: int(x.split()[-1]))\n",
    "added_yeardf.date_added = added_yeardf.date_added.apply(lambda x: int(x.split()[-1]))\n",
    "\n",
    "released_year = added_yeardf.release_year\n",
    "\n",
    "age = added_year - released_year"
   ]
  },
  {
   "cell_type": "code",
   "execution_count": null,
   "metadata": {
    "colab": {
     "base_uri": "https://localhost:8080/"
    },
    "id": "s1WxDouPGDe-",
    "outputId": "430f4538-6fb3-4fe9-db64-f7d8a14bfae7"
   },
   "outputs": [
    {
     "data": {
      "text/plain": [
       "count    8797.000000\n",
       "mean        4.688417\n",
       "std         8.786998\n",
       "min        -3.000000\n",
       "25%         0.000000\n",
       "50%         1.000000\n",
       "75%         5.000000\n",
       "max        93.000000\n",
       "dtype: float64"
      ]
     },
     "execution_count": 15,
     "metadata": {},
     "output_type": "execute_result"
    }
   ],
   "source": [
    "age.describe()"
   ]
  },
  {
   "cell_type": "markdown",
   "metadata": {
    "id": "txt5lXj4A-lC"
   },
   "source": [
    "To plot the distribution of the age, we will use a histogram. We first bin the data using 5 as the size of bin, starting from -5, which is close to the minimum age we found of -3, and ending at 95 close to the maximum age.\n",
    "\n",
    "\n"
   ]
  },
  {
   "cell_type": "code",
   "execution_count": null,
   "metadata": {
    "colab": {
     "base_uri": "https://localhost:8080/",
     "height": 322
    },
    "id": "aGC3uSJdGEty",
    "outputId": "15045f01-9cbd-49dd-8f8c-f6f7419bfed5"
   },
   "outputs": [
    {
     "data": {
      "image/png": "[encoded data removed]",
      "text/plain": [
       "<Figure size 432x360 with 1 Axes>"
      ]
     },
     "metadata": {},
     "output_type": "display_data"
    }
   ],
   "source": [
    "bin_arr = np.arange(-5, 100, 5)\n",
    "fig, axes = plt.subplots(1, 1, figsize = (6, 5))\n",
    "sns.histplot(x = age, bins = bin_arr, kde=True, ax = axes)\n",
    "plt.show()"
   ]
  },
  {
   "cell_type": "markdown",
   "metadata": {
    "id": "QI2r3HEhGPeI"
   },
   "source": [
    "The plot shows that most content is added before it is 40 years. We also have content with age less than zero, which means it was added to netflix before it was released. \n",
    "\n",
    "Netflix original content can be found if the year it was released is the same as the year it was added. This info is found on the [Netflix website](https://help.netflix.com/en/node/118959)."
   ]
  },
  {
   "cell_type": "markdown",
   "metadata": {
    "id": "jXpDXnGSHZwn"
   },
   "source": [
    "## Comparing age by content type"
   ]
  },
  {
   "cell_type": "code",
   "execution_count": null,
   "metadata": {
    "colab": {
     "base_uri": "https://localhost:8080/",
     "height": 268
    },
    "id": "Qc34KypPHk05",
    "outputId": "c0f58910-496e-407a-f1bc-e0afbb6a6eab"
   },
   "outputs": [
    {
     "data": {
      "image/png": "[encoded data removed]",
      "text/plain": [
       "<Figure size 432x288 with 1 Axes>"
      ]
     },
     "metadata": {},
     "output_type": "display_data"
    }
   ],
   "source": [
    "movie_age = age[added_yeardf.type=='Movie']\n",
    "tv_show_age = age[added_yeardf.type!='Movie']\n",
    "\n",
    "sns.kdeplot(movie_age, color = 'red')\n",
    "sns.kdeplot(tv_show_age, color='green')\n",
    "plt.show()"
   ]
  },
  {
   "cell_type": "markdown",
   "metadata": {
    "id": "VSzeemQ2Uyr6"
   },
   "source": [
    "From the above distribution, it the age of tv shows seems to be older at the time they were added than the movies."
   ]
  },
  {
   "cell_type": "markdown",
   "metadata": {
    "id": "ohKp4IDiNJt_"
   },
   "source": [
    "## Checking Distributution by age/maturity rating"
   ]
  },
  {
   "cell_type": "code",
   "execution_count": null,
   "metadata": {
    "colab": {
     "base_uri": "https://localhost:8080/"
    },
    "id": "IgVGl-vDMkFj",
    "outputId": "f567cbef-4d71-4cd5-f0d8-3f785566b225"
   },
   "outputs": [
    {
     "data": {
      "text/plain": [
       "array(['PG-13', 'TV-MA', 'PG', 'TV-14', 'TV-PG', 'TV-Y', 'TV-Y7', 'R',\n",
       "       'TV-G', 'G', 'NC-17', '74 min', '84 min', '66 min', 'NR', nan,\n",
       "       'TV-Y7-FV', 'UR'], dtype=object)"
      ]
     },
     "execution_count": 18,
     "metadata": {},
     "output_type": "execute_result"
    }
   ],
   "source": [
    "netdf.rating.unique()"
   ]
  },
  {
   "cell_type": "markdown",
   "metadata": {
    "id": "wY7tWcnVDQBi"
   },
   "source": [
    "The following columns will be classified together as they are equivalent, the rating is defined by the release country.\n",
    "- UR ≡ NR\n",
    "- TV-MA ≡ R, \n",
    "- TV-14 ≡ PG13\n",
    "- TV-G ≡ G"
   ]
  },
  {
   "cell_type": "code",
   "execution_count": null,
   "metadata": {
    "colab": {
     "base_uri": "https://localhost:8080/"
    },
    "id": "gZ2o75Os_-Qh",
    "outputId": "dbcef3b3-4c5c-44b1-ff24-2128cdb5788b"
   },
   "outputs": [
    {
     "data": {
      "text/plain": [
       "array(['PG-13', 'TV-MA', 'PG', 'TV-PG', 'TV-Y', 'TV-Y7', 'R', 'G',\n",
       "       'NC-17', 'UR', 'TV-Y7-FV'], dtype=object)"
      ]
     },
     "execution_count": 19,
     "metadata": {},
     "output_type": "execute_result"
    }
   ],
   "source": [
    "# remove rows not showing ratings\n",
    "clean_ratingdf = netdf.copy()\n",
    "\n",
    "# classify the content containing nan, 74 min, 84 min, 66 min as unrated\n",
    "clean_ratingdf.rating = clean_ratingdf.rating.fillna('UR')\n",
    "def clean_rating(x):\n",
    "  if 'min' in x:\n",
    "    return 'UR'\n",
    "  elif x== 'TV-14':\n",
    "    return 'PG-13'\n",
    "  elif x == 'TV-G':\n",
    "    return 'G'\n",
    "  elif x == 'NR':\n",
    "    return 'UR'\n",
    "  return x\n",
    "\n",
    "clean_ratingdf.rating = clean_ratingdf.rating.apply(clean_rating)\n",
    "clean_ratingdf.rating.unique()"
   ]
  },
  {
   "cell_type": "code",
   "execution_count": null,
   "metadata": {
    "colab": {
     "base_uri": "https://localhost:8080/",
     "height": 377
    },
    "id": "WKYDcl72VpDf",
    "outputId": "6e40f2b6-9be0-4c0c-bb65-f14f128a0283"
   },
   "outputs": [
    {
     "data": {
      "image/png": "[encoded data removed]",
      "text/plain": [
       "<Figure size 576x360 with 1 Axes>"
      ]
     },
     "metadata": {},
     "output_type": "display_data"
    }
   ],
   "source": [
    "# sns.distplot(df[(df.Age.notnull()) & (df.Pclass == 1)]['Age'], hist=False, color='blue', label='class 1')\n",
    "# fig, axes = plt.subplots(figsize = (8, 5))\n",
    "clean_ratingdf.groupby(['rating', 'type']).size().unstack(level=1).fillna(0.0).plot(kind='bar', figsize=(8, 5))\n",
    "\n",
    "plt.show()"
   ]
  },
  {
   "cell_type": "markdown",
   "metadata": {
    "id": "kaf3hB3QGqFV"
   },
   "source": [
    "The above shows, that most movies are not rated. To make a conclusive comparison, we also plot the kde plots."
   ]
  },
  {
   "cell_type": "code",
   "execution_count": null,
   "metadata": {
    "colab": {
     "base_uri": "https://localhost:8080/",
     "height": 285
    },
    "id": "iO1BvsceWBDQ",
    "outputId": "991a9355-2dec-4a44-8c02-41531fd6f8ef"
   },
   "outputs": [
    {
     "data": {
      "image/png": "[encoded data removed]",
      "text/plain": [
       "<Figure size 432x288 with 1 Axes>"
      ]
     },
     "metadata": {},
     "output_type": "display_data"
    }
   ],
   "source": [
    "# sns.distplot(clean_ratingdf[(clean_ratingdf.type == 'Movie')]['rating'], hist=False, color='blue', label='Movie')\n",
    "rating_comparison = clean_ratingdf.groupby(['rating', 'type']).size().unstack(level=1).fillna(0.0)\n",
    "fig, axs = plt.subplots()\n",
    "sns.kdeplot(rating_comparison.Movie, color='blue', label='Movie', ax=axs)\n",
    "sns.kdeplot(rating_comparison['TV Show'], color='red', label='TV Show', ax=axs)\n",
    "axs.set_xlabel('Content Type')\n",
    "plt.show()"
   ]
  },
  {
   "cell_type": "markdown",
   "metadata": {
    "id": "YNn8CPnCJMiy"
   },
   "source": [
    "The plot shows how the two content types are distributed in relation to each other. The TV shows are more peaked than the Movie ratings"
   ]
  },
  {
   "cell_type": "markdown",
   "metadata": {
    "id": "Za_77iP5JgfN"
   },
   "source": [
    "## Genre Distribution"
   ]
  },
  {
   "cell_type": "code",
   "execution_count": null,
   "metadata": {
    "colab": {
     "base_uri": "https://localhost:8080/",
     "height": 485
    },
    "id": "mt05C4-NJoJj",
    "outputId": "0f25ed4c-ccbb-4f15-fc33-ebbf56a6595d"
   },
   "outputs": [
    {
     "data": {
      "image/png": "[encoded data removed]",
      "text/plain": [
       "<Figure size 720x576 with 1 Axes>"
      ]
     },
     "metadata": {},
     "output_type": "display_data"
    }
   ],
   "source": [
    "# available genres\n",
    "genres_usage = \", \".join(netdf['listed_in']).split(\", \")\n",
    "genres_usage = np.array(genres_usage)\n",
    "# count occurances of a certain genre\n",
    "counter = collections.Counter(genres_usage)\n",
    "counter = collections.OrderedDict(counter.most_common())\n",
    "# plot distribution\n",
    "fig, axs = plt.subplots(figsize = (10, 8))\n",
    "bars = axs.barh(list(counter.keys()), counter.values())\n",
    "# for bar in bars:\n",
    "#   width = bar.get_width()\n",
    "#   label_y = bar.get_y() + bar.get_height() /2\n",
    "#   plt.text(width, label_y, s=f'{width}')\n",
    "\n",
    "plt.show()\n"
   ]
  },
  {
   "cell_type": "markdown",
   "metadata": {
    "id": "S-sX4nB1R3gI"
   },
   "source": [
    "From the distribution above, the International Movies are the most popular and TV shows are the least popular"
   ]
  },
  {
   "cell_type": "markdown",
   "metadata": {
    "id": "4BntgXVjSPh5"
   },
   "source": [
    "## Type of Content added over time"
   ]
  },
  {
   "cell_type": "code",
   "execution_count": null,
   "metadata": {
    "colab": {
     "base_uri": "https://localhost:8080/",
     "height": 374
    },
    "id": "ccRszmlYKYwW",
    "outputId": "2e208ae3-204f-49ee-95b2-3e75a5fa3fd9"
   },
   "outputs": [
    {
     "data": {
      "text/plain": [
       "<matplotlib.axes._subplots.AxesSubplot at 0x7f6d3c634210>"
      ]
     },
     "execution_count": 23,
     "metadata": {},
     "output_type": "execute_result"
    },
    {
     "data": {
      "image/png": "[encoded data removed]",
      "text/plain": [
       "<Figure size 576x360 with 1 Axes>"
      ]
     },
     "metadata": {},
     "output_type": "display_data"
    }
   ],
   "source": [
    "# count number of movies and tv shows added per year\n",
    "# tv_add = added_yeardf[added_yeardf.type=='TV Show'].date_added.value_counts()\n",
    "# movie_add = added_yeardf[added_yeardf.type== 'Movie'].date_added.value_counts()\n",
    "\n",
    "# comparing shows added per year vs movies added per year\n",
    "dates_compare_ser = added_yeardf.groupby(['date_added', 'type']).size().unstack(level=1).fillna(0.0)\n",
    "# added_yeardf.groupby(['date_added', 'type']).size().unstack(level=1).plot(kind='bar', figsize=(8, 5))\n",
    "dates_compare_ser.plot(kind='bar', figsize=(8, 5))"
   ]
  },
  {
   "cell_type": "markdown",
   "metadata": {
    "id": "YhiKoUVjbJJw"
   },
   "source": [
    "In many years, the number of movies added per year is greater than the number of tv shows added. We show the changes over time below using the total number of movies added so far."
   ]
  },
  {
   "cell_type": "code",
   "execution_count": null,
   "metadata": {
    "colab": {
     "base_uri": "https://localhost:8080/",
     "height": 339
    },
    "id": "27C696BUTDx7",
    "outputId": "4269239a-5a78-4643-9d1a-5d5b08a40eb4"
   },
   "outputs": [
    {
     "data": {
      "image/png": "[encoded data removed]",
      "text/plain": [
       "<Figure size 576x360 with 1 Axes>"
      ]
     },
     "metadata": {},
     "output_type": "display_data"
    }
   ],
   "source": [
    "# comparing the total number of shows and total number of movies added.\n",
    "\n",
    "dates_compare_ser.sort_index().cumsum().plot(kind='line', figsize = (8, 5))\n",
    "plt.show()"
   ]
  },
  {
   "cell_type": "markdown",
   "metadata": {
    "id": "bc6lWg4bee_8"
   },
   "source": [
    "The number of movies added were close from 2008 to 2015. From 2016, more movies were added than TV shows."
   ]
  },
  {
   "cell_type": "markdown",
   "metadata": {
    "id": "2AmrMLObfOtK"
   },
   "source": [
    "## Most content added per week\n",
    "\n",
    "To find the week with the most content, we first convert the date_add column type to datetime. This will allow us to express the dates in weeks easly."
   ]
  },
  {
   "cell_type": "code",
   "execution_count": null,
   "metadata": {
    "colab": {
     "base_uri": "https://localhost:8080/",
     "height": 302
    },
    "id": "tiChuJQGcENC",
    "outputId": "027faf1d-2d05-41a1-df36-b1ffbe65dcd9"
   },
   "outputs": [
    {
     "data": {
      "text/plain": [
       "<matplotlib.axes._subplots.AxesSubplot at 0x7f6d3ca58250>"
      ]
     },
     "execution_count": 25,
     "metadata": {},
     "output_type": "execute_result"
    },
    {
     "data": {
      "image/png": "[encoded data removed]",
      "text/plain": [
       "<Figure size 432x288 with 1 Axes>"
      ]
     },
     "metadata": {},
     "output_type": "display_data"
    }
   ],
   "source": [
    "from datetime import date\n",
    "from datetime import datetime\n",
    "import calendar\n",
    "\n",
    "added_dates = netdf.date_added.dropna()\n",
    "\n",
    "months_dict = {month: index for index, month in enumerate(calendar.month_name) if month}\n",
    "\n",
    "def clean_dates2(x):\n",
    "  x = x.replace(',','')\n",
    "  d = x.split()\n",
    "  month = int(months_dict[d[0]])\n",
    "  day = int(d[1])\n",
    "  year = int(d[2])\n",
    "  dt_tmp = date(year, month, day)\n",
    "  return dt_tmp\n",
    "\n",
    "added_dates = added_dates.apply(clean_dates2)\n",
    "week_series = added_dates.apply(lambda x: x.strftime('%V'))\n",
    "\n",
    "frame = {'added_dates': added_dates, 'weeks':week_series}\n",
    "date_df = pd.DataFrame(frame)\n",
    "week_counts = date_df.groupby(['weeks']).size()\n",
    "week_counts.plot(ylabel='amount')"
   ]
  },
  {
   "cell_type": "markdown",
   "metadata": {
    "id": "AeoAVdXmorE3"
   },
   "source": [
    "The most content is uploaded in January. "
   ]
  },
  {
   "cell_type": "markdown",
   "metadata": {
    "id": "TjzF3DvDpd8I"
   },
   "source": [
    "# IMDB Dataset Analysis\n",
    "\n",
    "The netflix dataset provides basic information on movies and tv shows. It does not provide the information about popularity of the content(ratings). We use IMDB for such, and we will merge both datasets with an intention of finding the popularity and ratings of movies."
   ]
  },
  {
   "cell_type": "code",
   "execution_count": 1,
   "metadata": {
    "colab": {
     "base_uri": "https://localhost:8080/",
     "height": 300
    },
    "id": "Hk51BGlJl9SM",
    "outputId": "1d7a4dba-a06f-4a83-fe38-cb93fc1993f6"
   },
   "outputs": [
    {
     "ename": "NameError",
     "evalue": "name 'netdf' is not defined",
     "output_type": "error",
     "traceback": [
      "\u001b[0;31m---------------------------------------------------------------------------\u001b[0m",
      "\u001b[0;31mNameError\u001b[0m                                 Traceback (most recent call last)",
      "\u001b[0;32m<ipython-input-1-1e8d5fc0dec6>\u001b[0m in \u001b[0;36m<module>\u001b[0;34m\u001b[0m\n\u001b[1;32m      1\u001b[0m \u001b[0;31m# prepare dataset\u001b[0m\u001b[0;34m\u001b[0m\u001b[0;34m\u001b[0m\u001b[0;34m\u001b[0m\u001b[0m\n\u001b[1;32m      2\u001b[0m \u001b[0;31m# remove tv shows from netflix dataframe\u001b[0m\u001b[0;34m\u001b[0m\u001b[0;34m\u001b[0m\u001b[0;34m\u001b[0m\u001b[0m\n\u001b[0;32m----> 3\u001b[0;31m \u001b[0mnet_moviesdf\u001b[0m \u001b[0;34m=\u001b[0m \u001b[0mnetdf\u001b[0m\u001b[0;34m[\u001b[0m\u001b[0mnetdf\u001b[0m\u001b[0;34m.\u001b[0m\u001b[0mtype\u001b[0m\u001b[0;34m==\u001b[0m\u001b[0;34m'Movie'\u001b[0m\u001b[0;34m]\u001b[0m\u001b[0;34m.\u001b[0m\u001b[0mreset_index\u001b[0m\u001b[0;34m(\u001b[0m\u001b[0mdrop\u001b[0m\u001b[0;34m=\u001b[0m\u001b[0;32mTrue\u001b[0m\u001b[0;34m)\u001b[0m\u001b[0;34m\u001b[0m\u001b[0;34m\u001b[0m\u001b[0m\n\u001b[0m\u001b[1;32m      4\u001b[0m \u001b[0mnet_moviesdf\u001b[0m\u001b[0;34m.\u001b[0m\u001b[0mdescribe\u001b[0m\u001b[0;34m(\u001b[0m\u001b[0;34m)\u001b[0m\u001b[0;34m\u001b[0m\u001b[0;34m\u001b[0m\u001b[0m\n",
      "\u001b[0;31mNameError\u001b[0m: name 'netdf' is not defined"
     ]
    }
   ],
   "source": [
    "# prepare dataset\n",
    "# remove tv shows from netflix dataframe\n",
    "net_moviesdf = netdf[netdf.type=='Movie'].reset_index(drop=True)\n",
    "net_moviesdf.describe()"
   ]
  },
  {
   "cell_type": "markdown",
   "metadata": {
    "id": "NbfHuVgjxj4W"
   },
   "source": [
    "# Joining the datasets"
   ]
  },
  {
   "cell_type": "code",
   "execution_count": null,
   "metadata": {
    "colab": {
     "base_uri": "https://localhost:8080/",
     "height": 206
    },
    "id": "KUgiSCv-Z9UX",
    "outputId": "f9b78326-e653-4f9a-c98d-6fe937c73944"
   },
   "outputs": [
    {
     "data": {
      "text/html": [
       "<div>\n",
       "<style scoped>\n",
       "    .dataframe tbody tr th:only-of-type {\n",
       "        vertical-align: middle;\n",
       "    }\n",
       "\n",
       "    .dataframe tbody tr th {\n",
       "        vertical-align: top;\n",
       "    }\n",
       "\n",
       "    .dataframe thead th {\n",
       "        text-align: right;\n",
       "    }\n",
       "</style>\n",
       "<table border=\"1\" class=\"dataframe\">\n",
       "  <thead>\n",
       "    <tr style=\"text-align: right;\">\n",
       "      <th></th>\n",
       "      <th>nconst</th>\n",
       "      <th>primaryName</th>\n",
       "      <th>birthYear</th>\n",
       "      <th>deathYear</th>\n",
       "      <th>primaryProfession</th>\n",
       "      <th>knownForTitles</th>\n",
       "    </tr>\n",
       "  </thead>\n",
       "  <tbody>\n",
       "    <tr>\n",
       "      <th>0</th>\n",
       "      <td>nm0000001</td>\n",
       "      <td>Fred Astaire</td>\n",
       "      <td>1899</td>\n",
       "      <td>1987</td>\n",
       "      <td>soundtrack,actor,miscellaneous</td>\n",
       "      <td>tt0072308,tt0053137,tt0050419,tt0031983</td>\n",
       "    </tr>\n",
       "    <tr>\n",
       "      <th>1</th>\n",
       "      <td>nm0000002</td>\n",
       "      <td>Lauren Bacall</td>\n",
       "      <td>1924</td>\n",
       "      <td>2014</td>\n",
       "      <td>actress,soundtrack</td>\n",
       "      <td>tt0037382,tt0038355,tt0071877,tt0117057</td>\n",
       "    </tr>\n",
       "    <tr>\n",
       "      <th>2</th>\n",
       "      <td>nm0000003</td>\n",
       "      <td>Brigitte Bardot</td>\n",
       "      <td>1934</td>\n",
       "      <td>\\N</td>\n",
       "      <td>actress,soundtrack,music_department</td>\n",
       "      <td>tt0056404,tt0054452,tt0049189,tt0057345</td>\n",
       "    </tr>\n",
       "    <tr>\n",
       "      <th>3</th>\n",
       "      <td>nm0000004</td>\n",
       "      <td>John Belushi</td>\n",
       "      <td>1949</td>\n",
       "      <td>1982</td>\n",
       "      <td>actor,soundtrack,writer</td>\n",
       "      <td>tt0080455,tt0078723,tt0077975,tt0072562</td>\n",
       "    </tr>\n",
       "    <tr>\n",
       "      <th>4</th>\n",
       "      <td>nm0000005</td>\n",
       "      <td>Ingmar Bergman</td>\n",
       "      <td>1918</td>\n",
       "      <td>2007</td>\n",
       "      <td>writer,director,actor</td>\n",
       "      <td>tt0050986,tt0060827,tt0083922,tt0050976</td>\n",
       "    </tr>\n",
       "  </tbody>\n",
       "</table>\n",
       "</div>"
      ],
      "text/plain": [
       "      nconst  ...                           knownForTitles\n",
       "0  nm0000001  ...  tt0072308,tt0053137,tt0050419,tt0031983\n",
       "1  nm0000002  ...  tt0037382,tt0038355,tt0071877,tt0117057\n",
       "2  nm0000003  ...  tt0056404,tt0054452,tt0049189,tt0057345\n",
       "3  nm0000004  ...  tt0080455,tt0078723,tt0077975,tt0072562\n",
       "4  nm0000005  ...  tt0050986,tt0060827,tt0083922,tt0050976\n",
       "\n",
       "[5 rows x 6 columns]"
      ]
     },
     "execution_count": 27,
     "metadata": {},
     "output_type": "execute_result"
    }
   ],
   "source": [
    "\n",
    "# import all imdb data related to see which joins we can perform on it only\n",
    "\n",
    "#1. name basics\n",
    "ititles_path = '/content/drive/MyDrive/Project ML/Exam/datasets/datasets/name.basics_small.tsv.gz'\n",
    "with gzip.open(ititles_path,   'r') as z:\n",
    "  ititles_df = pd.read_csv(z, sep='\\t')\n",
    "ititles_df.head()"
   ]
  },
  {
   "cell_type": "code",
   "execution_count": null,
   "metadata": {
    "colab": {
     "base_uri": "https://localhost:8080/",
     "height": 206
    },
    "id": "8-P7b1nkeIvS",
    "outputId": "232c4c03-0250-4031-e05a-7ac527e9cc3e"
   },
   "outputs": [
    {
     "data": {
      "text/html": [
       "<div>\n",
       "<style scoped>\n",
       "    .dataframe tbody tr th:only-of-type {\n",
       "        vertical-align: middle;\n",
       "    }\n",
       "\n",
       "    .dataframe tbody tr th {\n",
       "        vertical-align: top;\n",
       "    }\n",
       "\n",
       "    .dataframe thead th {\n",
       "        text-align: right;\n",
       "    }\n",
       "</style>\n",
       "<table border=\"1\" class=\"dataframe\">\n",
       "  <thead>\n",
       "    <tr style=\"text-align: right;\">\n",
       "      <th></th>\n",
       "      <th>tconst</th>\n",
       "      <th>averageRating</th>\n",
       "      <th>numVotes</th>\n",
       "    </tr>\n",
       "  </thead>\n",
       "  <tbody>\n",
       "    <tr>\n",
       "      <th>0</th>\n",
       "      <td>tt0000004</td>\n",
       "      <td>6.0</td>\n",
       "      <td>153</td>\n",
       "    </tr>\n",
       "    <tr>\n",
       "      <th>1</th>\n",
       "      <td>tt0000020</td>\n",
       "      <td>5.0</td>\n",
       "      <td>319</td>\n",
       "    </tr>\n",
       "    <tr>\n",
       "      <th>2</th>\n",
       "      <td>tt0000023</td>\n",
       "      <td>5.7</td>\n",
       "      <td>1293</td>\n",
       "    </tr>\n",
       "    <tr>\n",
       "      <th>3</th>\n",
       "      <td>tt0000031</td>\n",
       "      <td>5.5</td>\n",
       "      <td>936</td>\n",
       "    </tr>\n",
       "    <tr>\n",
       "      <th>4</th>\n",
       "      <td>tt0000051</td>\n",
       "      <td>3.8</td>\n",
       "      <td>32</td>\n",
       "    </tr>\n",
       "  </tbody>\n",
       "</table>\n",
       "</div>"
      ],
      "text/plain": [
       "      tconst  averageRating  numVotes\n",
       "0  tt0000004            6.0       153\n",
       "1  tt0000020            5.0       319\n",
       "2  tt0000023            5.7      1293\n",
       "3  tt0000031            5.5       936\n",
       "4  tt0000051            3.8        32"
      ]
     },
     "execution_count": 28,
     "metadata": {},
     "output_type": "execute_result"
    }
   ],
   "source": [
    "#2. iratings\n",
    "iratings_path = '/content/drive/MyDrive/Project ML/Exam/datasets/datasets/title.ratings_small.tsv.gz'\n",
    "with gzip.open(iratings_path,   'r') as z:\n",
    "  iratings_df = pd.read_csv(z, sep='\\t')\n",
    "iratings_df.head()"
   ]
  },
  {
   "cell_type": "code",
   "execution_count": null,
   "metadata": {
    "colab": {
     "base_uri": "https://localhost:8080/",
     "height": 206
    },
    "id": "xM-aElKhfHCr",
    "outputId": "d373f4aa-76d0-4d62-e438-cd2b4da3ceda"
   },
   "outputs": [
    {
     "data": {
      "text/html": [
       "<div>\n",
       "<style scoped>\n",
       "    .dataframe tbody tr th:only-of-type {\n",
       "        vertical-align: middle;\n",
       "    }\n",
       "\n",
       "    .dataframe tbody tr th {\n",
       "        vertical-align: top;\n",
       "    }\n",
       "\n",
       "    .dataframe thead th {\n",
       "        text-align: right;\n",
       "    }\n",
       "</style>\n",
       "<table border=\"1\" class=\"dataframe\">\n",
       "  <thead>\n",
       "    <tr style=\"text-align: right;\">\n",
       "      <th></th>\n",
       "      <th>tconst</th>\n",
       "      <th>titleType</th>\n",
       "      <th>primaryTitle</th>\n",
       "      <th>originalTitle</th>\n",
       "      <th>isAdult</th>\n",
       "      <th>startYear</th>\n",
       "      <th>endYear</th>\n",
       "      <th>runtimeMinutes</th>\n",
       "      <th>genres</th>\n",
       "    </tr>\n",
       "  </thead>\n",
       "  <tbody>\n",
       "    <tr>\n",
       "      <th>0</th>\n",
       "      <td>tt11394180</td>\n",
       "      <td>movie</td>\n",
       "      <td>Dick Johnson Is Dead</td>\n",
       "      <td>Dick Johnson Is Dead</td>\n",
       "      <td>0</td>\n",
       "      <td>2020</td>\n",
       "      <td>0</td>\n",
       "      <td>89</td>\n",
       "      <td>Documentary,Drama</td>\n",
       "    </tr>\n",
       "    <tr>\n",
       "      <th>1</th>\n",
       "      <td>tt5973706</td>\n",
       "      <td>movie</td>\n",
       "      <td>The Wake of Dick Johnson</td>\n",
       "      <td>The Wake of Dick Johnson</td>\n",
       "      <td>0</td>\n",
       "      <td>2016</td>\n",
       "      <td>0</td>\n",
       "      <td>74</td>\n",
       "      <td>Drama</td>\n",
       "    </tr>\n",
       "    <tr>\n",
       "      <th>2</th>\n",
       "      <td>tt3172066</td>\n",
       "      <td>tvEpisode</td>\n",
       "      <td>Jack Johnson</td>\n",
       "      <td>Jack Johnson</td>\n",
       "      <td>0</td>\n",
       "      <td>2013</td>\n",
       "      <td>0</td>\n",
       "      <td>22</td>\n",
       "      <td>Comedy,News,Talk-Show</td>\n",
       "    </tr>\n",
       "    <tr>\n",
       "      <th>3</th>\n",
       "      <td>tt0065906</td>\n",
       "      <td>movie</td>\n",
       "      <td>Jack Johnson</td>\n",
       "      <td>Jack Johnson</td>\n",
       "      <td>0</td>\n",
       "      <td>1970</td>\n",
       "      <td>0</td>\n",
       "      <td>90</td>\n",
       "      <td>Documentary,Sport</td>\n",
       "    </tr>\n",
       "    <tr>\n",
       "      <th>4</th>\n",
       "      <td>tt13604988</td>\n",
       "      <td>tvSeries</td>\n",
       "      <td>Johnson</td>\n",
       "      <td>Johnson</td>\n",
       "      <td>0</td>\n",
       "      <td>2021</td>\n",
       "      <td>0</td>\n",
       "      <td>30</td>\n",
       "      <td>Comedy,Drama</td>\n",
       "    </tr>\n",
       "  </tbody>\n",
       "</table>\n",
       "</div>"
      ],
      "text/plain": [
       "       tconst  titleType  ... runtimeMinutes                 genres\n",
       "0  tt11394180      movie  ...             89      Documentary,Drama\n",
       "1   tt5973706      movie  ...             74                  Drama\n",
       "2   tt3172066  tvEpisode  ...             22  Comedy,News,Talk-Show\n",
       "3   tt0065906      movie  ...             90      Documentary,Sport\n",
       "4  tt13604988   tvSeries  ...             30           Comedy,Drama\n",
       "\n",
       "[5 rows x 9 columns]"
      ]
     },
     "execution_count": 29,
     "metadata": {},
     "output_type": "execute_result"
    }
   ],
   "source": [
    "# 3. inames\n",
    "ititles2_path = '/content/drive/MyDrive/Project ML/Exam/datasets/datasets/title.basics_small.tsv.gz'\n",
    "with gzip.open(ititles2_path,   'r') as z:\n",
    "  ititles2_df = pd.read_csv(z, sep='\\t')\n",
    "ititles2_df.head()"
   ]
  },
  {
   "cell_type": "code",
   "execution_count": null,
   "metadata": {
    "colab": {
     "base_uri": "https://localhost:8080/",
     "height": 206
    },
    "id": "Y0hDO28dkJEQ",
    "outputId": "14b80916-a308-409d-80d2-284983b79f80"
   },
   "outputs": [
    {
     "data": {
      "text/html": [
       "<div>\n",
       "<style scoped>\n",
       "    .dataframe tbody tr th:only-of-type {\n",
       "        vertical-align: middle;\n",
       "    }\n",
       "\n",
       "    .dataframe tbody tr th {\n",
       "        vertical-align: top;\n",
       "    }\n",
       "\n",
       "    .dataframe thead th {\n",
       "        text-align: right;\n",
       "    }\n",
       "</style>\n",
       "<table border=\"1\" class=\"dataframe\">\n",
       "  <thead>\n",
       "    <tr style=\"text-align: right;\">\n",
       "      <th></th>\n",
       "      <th>tconst</th>\n",
       "      <th>averageRating</th>\n",
       "      <th>numVotes</th>\n",
       "      <th>titleType</th>\n",
       "      <th>primaryTitle</th>\n",
       "      <th>originalTitle</th>\n",
       "      <th>isAdult</th>\n",
       "      <th>startYear</th>\n",
       "      <th>endYear</th>\n",
       "      <th>runtimeMinutes</th>\n",
       "      <th>genres</th>\n",
       "    </tr>\n",
       "  </thead>\n",
       "  <tbody>\n",
       "    <tr>\n",
       "      <th>0</th>\n",
       "      <td>tt0000862</td>\n",
       "      <td>5.1</td>\n",
       "      <td>16</td>\n",
       "      <td>movie</td>\n",
       "      <td>Faldgruben</td>\n",
       "      <td>Faldgruben</td>\n",
       "      <td>0</td>\n",
       "      <td>1909</td>\n",
       "      <td>0</td>\n",
       "      <td>0</td>\n",
       "      <td>0</td>\n",
       "    </tr>\n",
       "    <tr>\n",
       "      <th>1</th>\n",
       "      <td>tt0000992</td>\n",
       "      <td>4.8</td>\n",
       "      <td>15</td>\n",
       "      <td>movie</td>\n",
       "      <td>De onde Veje</td>\n",
       "      <td>De onde Veje</td>\n",
       "      <td>0</td>\n",
       "      <td>1909</td>\n",
       "      <td>0</td>\n",
       "      <td>0</td>\n",
       "      <td>0</td>\n",
       "    </tr>\n",
       "    <tr>\n",
       "      <th>2</th>\n",
       "      <td>tt0001038</td>\n",
       "      <td>4.0</td>\n",
       "      <td>20</td>\n",
       "      <td>movie</td>\n",
       "      <td>Sherlock Holmes VI</td>\n",
       "      <td>Sherlock Holmes VI</td>\n",
       "      <td>0</td>\n",
       "      <td>1910</td>\n",
       "      <td>0</td>\n",
       "      <td>0</td>\n",
       "      <td>0</td>\n",
       "    </tr>\n",
       "    <tr>\n",
       "      <th>3</th>\n",
       "      <td>tt0001586</td>\n",
       "      <td>3.8</td>\n",
       "      <td>16</td>\n",
       "      <td>movie</td>\n",
       "      <td>A Dog's Tale</td>\n",
       "      <td>A Dog's Tale</td>\n",
       "      <td>0</td>\n",
       "      <td>1911</td>\n",
       "      <td>0</td>\n",
       "      <td>0</td>\n",
       "      <td>0</td>\n",
       "    </tr>\n",
       "    <tr>\n",
       "      <th>4</th>\n",
       "      <td>tt0002186</td>\n",
       "      <td>6.3</td>\n",
       "      <td>110</td>\n",
       "      <td>movie</td>\n",
       "      <td>The Flying Circus</td>\n",
       "      <td>Den flyvende cirkus</td>\n",
       "      <td>0</td>\n",
       "      <td>1912</td>\n",
       "      <td>0</td>\n",
       "      <td>46</td>\n",
       "      <td>Drama</td>\n",
       "    </tr>\n",
       "  </tbody>\n",
       "</table>\n",
       "</div>"
      ],
      "text/plain": [
       "      tconst  averageRating  numVotes  ... endYear runtimeMinutes genres\n",
       "0  tt0000862            5.1        16  ...       0              0      0\n",
       "1  tt0000992            4.8        15  ...       0              0      0\n",
       "2  tt0001038            4.0        20  ...       0              0      0\n",
       "3  tt0001586            3.8        16  ...       0              0      0\n",
       "4  tt0002186            6.3       110  ...       0             46  Drama\n",
       "\n",
       "[5 rows x 11 columns]"
      ]
     },
     "execution_count": 30,
     "metadata": {},
     "output_type": "execute_result"
    }
   ],
   "source": [
    "# we can use the ititle2 and the ratings to get the movie name rating.\n",
    "\n",
    "# leave movies only\n",
    "ititles2_df = ititles2_df[ititles2_df.titleType =='movie']\n",
    "\n",
    "# join ititle2_df with the iratings_df\n",
    "idf = pd.merge(iratings_df, ititles2_df, on= 'tconst')\n",
    "idf.head()"
   ]
  },
  {
   "cell_type": "code",
   "execution_count": null,
   "metadata": {
    "colab": {
     "base_uri": "https://localhost:8080/",
     "height": 501
    },
    "id": "KZ1Jn9Mmp0iw",
    "outputId": "5cd9a655-0af7-408c-c528-a28e27ff8be7"
   },
   "outputs": [
    {
     "data": {
      "text/html": [
       "<div>\n",
       "<style scoped>\n",
       "    .dataframe tbody tr th:only-of-type {\n",
       "        vertical-align: middle;\n",
       "    }\n",
       "\n",
       "    .dataframe tbody tr th {\n",
       "        vertical-align: top;\n",
       "    }\n",
       "\n",
       "    .dataframe thead th {\n",
       "        text-align: right;\n",
       "    }\n",
       "</style>\n",
       "<table border=\"1\" class=\"dataframe\">\n",
       "  <thead>\n",
       "    <tr style=\"text-align: right;\">\n",
       "      <th></th>\n",
       "      <th>show_id</th>\n",
       "      <th>type</th>\n",
       "      <th>title</th>\n",
       "      <th>director</th>\n",
       "      <th>cast</th>\n",
       "      <th>country</th>\n",
       "      <th>date_added</th>\n",
       "      <th>release_year</th>\n",
       "      <th>rating</th>\n",
       "      <th>duration</th>\n",
       "      <th>listed_in</th>\n",
       "      <th>description</th>\n",
       "    </tr>\n",
       "  </thead>\n",
       "  <tbody>\n",
       "    <tr>\n",
       "      <th>0</th>\n",
       "      <td>s1</td>\n",
       "      <td>Movie</td>\n",
       "      <td>Dick Johnson Is Dead</td>\n",
       "      <td>Kirsten Johnson</td>\n",
       "      <td>NaN</td>\n",
       "      <td>United States</td>\n",
       "      <td>September 25, 2021</td>\n",
       "      <td>2020</td>\n",
       "      <td>PG-13</td>\n",
       "      <td>90 min</td>\n",
       "      <td>Documentaries</td>\n",
       "      <td>As her father nears the end of his life, filmm...</td>\n",
       "    </tr>\n",
       "    <tr>\n",
       "      <th>1</th>\n",
       "      <td>s7</td>\n",
       "      <td>Movie</td>\n",
       "      <td>My Little Pony: A New Generation</td>\n",
       "      <td>Robert Cullen, José Luis Ucha</td>\n",
       "      <td>Vanessa Hudgens, Kimiko Glenn, James Marsden, ...</td>\n",
       "      <td>NaN</td>\n",
       "      <td>September 24, 2021</td>\n",
       "      <td>2021</td>\n",
       "      <td>PG</td>\n",
       "      <td>91 min</td>\n",
       "      <td>Children &amp; Family Movies</td>\n",
       "      <td>Equestria's divided. But a bright-eyed hero be...</td>\n",
       "    </tr>\n",
       "    <tr>\n",
       "      <th>2</th>\n",
       "      <td>s8</td>\n",
       "      <td>Movie</td>\n",
       "      <td>Sankofa</td>\n",
       "      <td>Haile Gerima</td>\n",
       "      <td>Kofi Ghanaba, Oyafunmike Ogunlano, Alexandra D...</td>\n",
       "      <td>United States, Ghana, Burkina Faso, United Kin...</td>\n",
       "      <td>September 24, 2021</td>\n",
       "      <td>1993</td>\n",
       "      <td>TV-MA</td>\n",
       "      <td>125 min</td>\n",
       "      <td>Dramas, Independent Movies, International Movies</td>\n",
       "      <td>On a photo shoot in Ghana, an American model s...</td>\n",
       "    </tr>\n",
       "    <tr>\n",
       "      <th>3</th>\n",
       "      <td>s10</td>\n",
       "      <td>Movie</td>\n",
       "      <td>The Starling</td>\n",
       "      <td>Theodore Melfi</td>\n",
       "      <td>Melissa McCarthy, Chris O'Dowd, Kevin Kline, T...</td>\n",
       "      <td>United States</td>\n",
       "      <td>September 24, 2021</td>\n",
       "      <td>2021</td>\n",
       "      <td>PG-13</td>\n",
       "      <td>104 min</td>\n",
       "      <td>Comedies, Dramas</td>\n",
       "      <td>A woman adjusting to life after a loss contend...</td>\n",
       "    </tr>\n",
       "    <tr>\n",
       "      <th>4</th>\n",
       "      <td>s13</td>\n",
       "      <td>Movie</td>\n",
       "      <td>Je Suis Karl</td>\n",
       "      <td>Christian Schwochow</td>\n",
       "      <td>Luna Wedler, Jannis Niewöhner, Milan Peschel, ...</td>\n",
       "      <td>Germany, Czech Republic</td>\n",
       "      <td>September 23, 2021</td>\n",
       "      <td>2021</td>\n",
       "      <td>TV-MA</td>\n",
       "      <td>127 min</td>\n",
       "      <td>Dramas, International Movies</td>\n",
       "      <td>After most of her family is murdered in a terr...</td>\n",
       "    </tr>\n",
       "  </tbody>\n",
       "</table>\n",
       "</div>"
      ],
      "text/plain": [
       "  show_id  ...                                        description\n",
       "0      s1  ...  As her father nears the end of his life, filmm...\n",
       "1      s7  ...  Equestria's divided. But a bright-eyed hero be...\n",
       "2      s8  ...  On a photo shoot in Ghana, an American model s...\n",
       "3     s10  ...  A woman adjusting to life after a loss contend...\n",
       "4     s13  ...  After most of her family is murdered in a terr...\n",
       "\n",
       "[5 rows x 12 columns]"
      ]
     },
     "execution_count": 31,
     "metadata": {},
     "output_type": "execute_result"
    }
   ],
   "source": [
    "# join the idf with the netflix dataset\n",
    "net_moviesdf.head()"
   ]
  },
  {
   "cell_type": "code",
   "execution_count": null,
   "metadata": {
    "colab": {
     "base_uri": "https://localhost:8080/",
     "height": 643
    },
    "id": "aBVxSamZp4J6",
    "outputId": "fcb605a8-f5e9-40dd-f28c-7b03a2fc11f3"
   },
   "outputs": [
    {
     "data": {
      "text/html": [
       "<div>\n",
       "<style scoped>\n",
       "    .dataframe tbody tr th:only-of-type {\n",
       "        vertical-align: middle;\n",
       "    }\n",
       "\n",
       "    .dataframe tbody tr th {\n",
       "        vertical-align: top;\n",
       "    }\n",
       "\n",
       "    .dataframe thead th {\n",
       "        text-align: right;\n",
       "    }\n",
       "</style>\n",
       "<table border=\"1\" class=\"dataframe\">\n",
       "  <thead>\n",
       "    <tr style=\"text-align: right;\">\n",
       "      <th></th>\n",
       "      <th>show_id</th>\n",
       "      <th>type</th>\n",
       "      <th>title</th>\n",
       "      <th>director</th>\n",
       "      <th>cast</th>\n",
       "      <th>country</th>\n",
       "      <th>date_added</th>\n",
       "      <th>release_year</th>\n",
       "      <th>rating</th>\n",
       "      <th>duration</th>\n",
       "      <th>listed_in</th>\n",
       "      <th>description</th>\n",
       "      <th>tconst</th>\n",
       "      <th>averageRating</th>\n",
       "      <th>numVotes</th>\n",
       "      <th>titleType</th>\n",
       "      <th>primaryTitle</th>\n",
       "      <th>originalTitle</th>\n",
       "      <th>isAdult</th>\n",
       "      <th>startYear</th>\n",
       "      <th>endYear</th>\n",
       "      <th>runtimeMinutes</th>\n",
       "      <th>genres</th>\n",
       "    </tr>\n",
       "  </thead>\n",
       "  <tbody>\n",
       "    <tr>\n",
       "      <th>0</th>\n",
       "      <td>s1</td>\n",
       "      <td>Movie</td>\n",
       "      <td>Dick Johnson Is Dead</td>\n",
       "      <td>Kirsten Johnson</td>\n",
       "      <td>NaN</td>\n",
       "      <td>United States</td>\n",
       "      <td>September 25, 2021</td>\n",
       "      <td>2020</td>\n",
       "      <td>PG-13</td>\n",
       "      <td>90 min</td>\n",
       "      <td>Documentaries</td>\n",
       "      <td>As her father nears the end of his life, filmm...</td>\n",
       "      <td>tt11394180</td>\n",
       "      <td>7.4</td>\n",
       "      <td>5870</td>\n",
       "      <td>movie</td>\n",
       "      <td>Dick Johnson Is Dead</td>\n",
       "      <td>Dick Johnson Is Dead</td>\n",
       "      <td>0</td>\n",
       "      <td>2020</td>\n",
       "      <td>0</td>\n",
       "      <td>89</td>\n",
       "      <td>Documentary,Drama</td>\n",
       "    </tr>\n",
       "    <tr>\n",
       "      <th>1</th>\n",
       "      <td>s7</td>\n",
       "      <td>Movie</td>\n",
       "      <td>My Little Pony: A New Generation</td>\n",
       "      <td>Robert Cullen, José Luis Ucha</td>\n",
       "      <td>Vanessa Hudgens, Kimiko Glenn, James Marsden, ...</td>\n",
       "      <td>NaN</td>\n",
       "      <td>September 24, 2021</td>\n",
       "      <td>2021</td>\n",
       "      <td>PG</td>\n",
       "      <td>91 min</td>\n",
       "      <td>Children &amp; Family Movies</td>\n",
       "      <td>Equestria's divided. But a bright-eyed hero be...</td>\n",
       "      <td>tt10101702</td>\n",
       "      <td>6.9</td>\n",
       "      <td>2702</td>\n",
       "      <td>movie</td>\n",
       "      <td>My Little Pony: A New Generation</td>\n",
       "      <td>My Little Pony: A New Generation</td>\n",
       "      <td>0</td>\n",
       "      <td>2021</td>\n",
       "      <td>0</td>\n",
       "      <td>90</td>\n",
       "      <td>Adventure,Animation,Comedy</td>\n",
       "    </tr>\n",
       "    <tr>\n",
       "      <th>2</th>\n",
       "      <td>s8</td>\n",
       "      <td>Movie</td>\n",
       "      <td>Sankofa</td>\n",
       "      <td>Haile Gerima</td>\n",
       "      <td>Kofi Ghanaba, Oyafunmike Ogunlano, Alexandra D...</td>\n",
       "      <td>United States, Ghana, Burkina Faso, United Kin...</td>\n",
       "      <td>September 24, 2021</td>\n",
       "      <td>1993</td>\n",
       "      <td>TV-MA</td>\n",
       "      <td>125 min</td>\n",
       "      <td>Dramas, Independent Movies, International Movies</td>\n",
       "      <td>On a photo shoot in Ghana, an American model s...</td>\n",
       "      <td>tt0108041</td>\n",
       "      <td>7.0</td>\n",
       "      <td>617</td>\n",
       "      <td>movie</td>\n",
       "      <td>Sankofa</td>\n",
       "      <td>Sankofa</td>\n",
       "      <td>0</td>\n",
       "      <td>1993</td>\n",
       "      <td>0</td>\n",
       "      <td>125</td>\n",
       "      <td>Drama</td>\n",
       "    </tr>\n",
       "    <tr>\n",
       "      <th>3</th>\n",
       "      <td>s10</td>\n",
       "      <td>Movie</td>\n",
       "      <td>The Starling</td>\n",
       "      <td>Theodore Melfi</td>\n",
       "      <td>Melissa McCarthy, Chris O'Dowd, Kevin Kline, T...</td>\n",
       "      <td>United States</td>\n",
       "      <td>September 24, 2021</td>\n",
       "      <td>2021</td>\n",
       "      <td>PG-13</td>\n",
       "      <td>104 min</td>\n",
       "      <td>Comedies, Dramas</td>\n",
       "      <td>A woman adjusting to life after a loss contend...</td>\n",
       "      <td>tt5164438</td>\n",
       "      <td>6.3</td>\n",
       "      <td>9145</td>\n",
       "      <td>movie</td>\n",
       "      <td>The Starling</td>\n",
       "      <td>The Starling</td>\n",
       "      <td>0</td>\n",
       "      <td>2021</td>\n",
       "      <td>0</td>\n",
       "      <td>102</td>\n",
       "      <td>Comedy,Drama</td>\n",
       "    </tr>\n",
       "    <tr>\n",
       "      <th>4</th>\n",
       "      <td>s13</td>\n",
       "      <td>Movie</td>\n",
       "      <td>Je Suis Karl</td>\n",
       "      <td>Christian Schwochow</td>\n",
       "      <td>Luna Wedler, Jannis Niewöhner, Milan Peschel, ...</td>\n",
       "      <td>Germany, Czech Republic</td>\n",
       "      <td>September 23, 2021</td>\n",
       "      <td>2021</td>\n",
       "      <td>TV-MA</td>\n",
       "      <td>127 min</td>\n",
       "      <td>Dramas, International Movies</td>\n",
       "      <td>After most of her family is murdered in a terr...</td>\n",
       "      <td>tt9205538</td>\n",
       "      <td>5.4</td>\n",
       "      <td>613</td>\n",
       "      <td>movie</td>\n",
       "      <td>Je Suis Karl</td>\n",
       "      <td>Je Suis Karl</td>\n",
       "      <td>0</td>\n",
       "      <td>2021</td>\n",
       "      <td>0</td>\n",
       "      <td>126</td>\n",
       "      <td>Drama,Romance,Thriller</td>\n",
       "    </tr>\n",
       "  </tbody>\n",
       "</table>\n",
       "</div>"
      ],
      "text/plain": [
       "  show_id   type  ... runtimeMinutes                      genres\n",
       "0      s1  Movie  ...             89           Documentary,Drama\n",
       "1      s7  Movie  ...             90  Adventure,Animation,Comedy\n",
       "2      s8  Movie  ...            125                       Drama\n",
       "3     s10  Movie  ...            102                Comedy,Drama\n",
       "4     s13  Movie  ...            126      Drama,Romance,Thriller\n",
       "\n",
       "[5 rows x 23 columns]"
      ]
     },
     "execution_count": 32,
     "metadata": {},
     "output_type": "execute_result"
    }
   ],
   "source": [
    "full_df1 = pd.merge(net_moviesdf, idf, left_on='title', right_on='primaryTitle')\n",
    "full_df1 = full_df1.drop_duplicates()\n",
    "full_df1.head()"
   ]
  },
  {
   "cell_type": "code",
   "execution_count": null,
   "metadata": {
    "colab": {
     "base_uri": "https://localhost:8080/",
     "height": 300
    },
    "id": "Cb1s46-c5GNd",
    "outputId": "1ed6a5d6-6cce-47f8-edd5-87716610c907"
   },
   "outputs": [
    {
     "data": {
      "text/html": [
       "<div>\n",
       "<style scoped>\n",
       "    .dataframe tbody tr th:only-of-type {\n",
       "        vertical-align: middle;\n",
       "    }\n",
       "\n",
       "    .dataframe tbody tr th {\n",
       "        vertical-align: top;\n",
       "    }\n",
       "\n",
       "    .dataframe thead th {\n",
       "        text-align: right;\n",
       "    }\n",
       "</style>\n",
       "<table border=\"1\" class=\"dataframe\">\n",
       "  <thead>\n",
       "    <tr style=\"text-align: right;\">\n",
       "      <th></th>\n",
       "      <th>release_year</th>\n",
       "      <th>averageRating</th>\n",
       "      <th>numVotes</th>\n",
       "      <th>isAdult</th>\n",
       "      <th>startYear</th>\n",
       "      <th>endYear</th>\n",
       "      <th>runtimeMinutes</th>\n",
       "    </tr>\n",
       "  </thead>\n",
       "  <tbody>\n",
       "    <tr>\n",
       "      <th>count</th>\n",
       "      <td>5203.000000</td>\n",
       "      <td>5203.000000</td>\n",
       "      <td>5.203000e+03</td>\n",
       "      <td>5203.000000</td>\n",
       "      <td>5203.000000</td>\n",
       "      <td>5203.0</td>\n",
       "      <td>5203.000000</td>\n",
       "    </tr>\n",
       "    <tr>\n",
       "      <th>mean</th>\n",
       "      <td>2012.790313</td>\n",
       "      <td>6.228022</td>\n",
       "      <td>3.509436e+04</td>\n",
       "      <td>0.000192</td>\n",
       "      <td>2008.964251</td>\n",
       "      <td>0.0</td>\n",
       "      <td>103.628291</td>\n",
       "    </tr>\n",
       "    <tr>\n",
       "      <th>std</th>\n",
       "      <td>9.961308</td>\n",
       "      <td>1.140733</td>\n",
       "      <td>1.143808e+05</td>\n",
       "      <td>0.013864</td>\n",
       "      <td>31.689403</td>\n",
       "      <td>0.0</td>\n",
       "      <td>25.484038</td>\n",
       "    </tr>\n",
       "    <tr>\n",
       "      <th>min</th>\n",
       "      <td>1944.000000</td>\n",
       "      <td>1.400000</td>\n",
       "      <td>5.000000e+00</td>\n",
       "      <td>0.000000</td>\n",
       "      <td>0.000000</td>\n",
       "      <td>0.0</td>\n",
       "      <td>0.000000</td>\n",
       "    </tr>\n",
       "    <tr>\n",
       "      <th>25%</th>\n",
       "      <td>2011.000000</td>\n",
       "      <td>5.600000</td>\n",
       "      <td>3.810000e+02</td>\n",
       "      <td>0.000000</td>\n",
       "      <td>2007.000000</td>\n",
       "      <td>0.0</td>\n",
       "      <td>90.000000</td>\n",
       "    </tr>\n",
       "    <tr>\n",
       "      <th>50%</th>\n",
       "      <td>2016.000000</td>\n",
       "      <td>6.400000</td>\n",
       "      <td>2.333000e+03</td>\n",
       "      <td>0.000000</td>\n",
       "      <td>2015.000000</td>\n",
       "      <td>0.0</td>\n",
       "      <td>100.000000</td>\n",
       "    </tr>\n",
       "    <tr>\n",
       "      <th>75%</th>\n",
       "      <td>2018.000000</td>\n",
       "      <td>7.000000</td>\n",
       "      <td>1.622750e+04</td>\n",
       "      <td>0.000000</td>\n",
       "      <td>2018.000000</td>\n",
       "      <td>0.0</td>\n",
       "      <td>116.000000</td>\n",
       "    </tr>\n",
       "    <tr>\n",
       "      <th>max</th>\n",
       "      <td>2021.000000</td>\n",
       "      <td>9.100000</td>\n",
       "      <td>2.193013e+06</td>\n",
       "      <td>1.000000</td>\n",
       "      <td>2021.000000</td>\n",
       "      <td>0.0</td>\n",
       "      <td>252.000000</td>\n",
       "    </tr>\n",
       "  </tbody>\n",
       "</table>\n",
       "</div>"
      ],
      "text/plain": [
       "       release_year  averageRating  ...  endYear  runtimeMinutes\n",
       "count   5203.000000    5203.000000  ...   5203.0     5203.000000\n",
       "mean    2012.790313       6.228022  ...      0.0      103.628291\n",
       "std        9.961308       1.140733  ...      0.0       25.484038\n",
       "min     1944.000000       1.400000  ...      0.0        0.000000\n",
       "25%     2011.000000       5.600000  ...      0.0       90.000000\n",
       "50%     2016.000000       6.400000  ...      0.0      100.000000\n",
       "75%     2018.000000       7.000000  ...      0.0      116.000000\n",
       "max     2021.000000       9.100000  ...      0.0      252.000000\n",
       "\n",
       "[8 rows x 7 columns]"
      ]
     },
     "execution_count": 33,
     "metadata": {},
     "output_type": "execute_result"
    }
   ],
   "source": [
    "full_df1.describe()"
   ]
  },
  {
   "cell_type": "markdown",
   "metadata": {
    "id": "sKneGkuT5Kpl"
   },
   "source": [
    "We did not get the ratings of all the movies, as the number of movies in the netflix dataset was 6131. We were able to obtain the ratings for 5203 movies, which is 84% of the dataset."
   ]
  }
 ],
 "metadata": {
  "colab": {
   "collapsed_sections": [],
   "name": "Exam Q1.ipynb",
   "provenance": []
  },
  "kernelspec": {
   "display_name": "Python 3",
   "language": "python",
   "name": "python3"
  },
  "language_info": {
   "codemirror_mode": {
    "name": "ipython",
    "version": 3
   },
   "file_extension": ".py",
   "mimetype": "text/x-python",
   "name": "python",
   "nbconvert_exporter": "python",
   "pygments_lexer": "ipython3",
   "version": "3.8.8"
  }
 },
 "nbformat": 4,
 "nbformat_minor": 1
}
